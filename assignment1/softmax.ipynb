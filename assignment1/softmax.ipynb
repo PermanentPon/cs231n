{
 "cells": [
  {
   "cell_type": "markdown",
   "metadata": {
    "deletable": true,
    "editable": true
   },
   "source": [
    "# Softmax exercise\n",
    "\n",
    "*Complete and hand in this completed worksheet (including its outputs and any supporting code outside of the worksheet) with your assignment submission. For more details see the [assignments page](http://vision.stanford.edu/teaching/cs231n/assignments.html) on the course website.*\n",
    "\n",
    "This exercise is analogous to the SVM exercise. You will:\n",
    "\n",
    "- implement a fully-vectorized **loss function** for the Softmax classifier\n",
    "- implement the fully-vectorized expression for its **analytic gradient**\n",
    "- **check your implementation** with numerical gradient\n",
    "- use a validation set to **tune the learning rate and regularization** strength\n",
    "- **optimize** the loss function with **SGD**\n",
    "- **visualize** the final learned weights\n"
   ]
  },
  {
   "cell_type": "code",
   "execution_count": 2,
   "metadata": {
    "collapsed": false,
    "deletable": true,
    "editable": true
   },
   "outputs": [],
   "source": [
    "import random\n",
    "import numpy as np\n",
    "from cs231n.data_utils import load_CIFAR10\n",
    "import matplotlib.pyplot as plt\n",
    "\n",
    "from __future__ import print_function\n",
    "\n",
    "%matplotlib inline\n",
    "plt.rcParams['figure.figsize'] = (10.0, 8.0) # set default size of plots\n",
    "plt.rcParams['image.interpolation'] = 'nearest'\n",
    "plt.rcParams['image.cmap'] = 'gray'\n",
    "\n",
    "# for auto-reloading extenrnal modules\n",
    "# see http://stackoverflow.com/questions/1907993/autoreload-of-modules-in-ipython\n",
    "%load_ext autoreload\n",
    "%autoreload 2"
   ]
  },
  {
   "cell_type": "code",
   "execution_count": 3,
   "metadata": {
    "collapsed": false,
    "deletable": true,
    "editable": true
   },
   "outputs": [
    {
     "name": "stdout",
     "output_type": "stream",
     "text": [
      "Train data shape:  (49000, 3073)\n",
      "Train labels shape:  (49000,)\n",
      "Validation data shape:  (1000, 3073)\n",
      "Validation labels shape:  (1000,)\n",
      "Test data shape:  (1000, 3073)\n",
      "Test labels shape:  (1000,)\n",
      "dev data shape:  (500, 3073)\n",
      "dev labels shape:  (500,)\n"
     ]
    }
   ],
   "source": [
    "def get_CIFAR10_data(num_training=49000, num_validation=1000, num_test=1000, num_dev=500):\n",
    "    \"\"\"\n",
    "    Load the CIFAR-10 dataset from disk and perform preprocessing to prepare\n",
    "    it for the linear classifier. These are the same steps as we used for the\n",
    "    SVM, but condensed to a single function.  \n",
    "    \"\"\"\n",
    "    # Load the raw CIFAR-10 data\n",
    "    cifar10_dir = 'cs231n/datasets/cifar-10-batches-py'\n",
    "    X_train, y_train, X_test, y_test = load_CIFAR10(cifar10_dir)\n",
    "    \n",
    "    # subsample the data\n",
    "    mask = list(range(num_training, num_training + num_validation))\n",
    "    X_val = X_train[mask]\n",
    "    y_val = y_train[mask]\n",
    "    mask = list(range(num_training))\n",
    "    X_train = X_train[mask]\n",
    "    y_train = y_train[mask]\n",
    "    mask = list(range(num_test))\n",
    "    X_test = X_test[mask]\n",
    "    y_test = y_test[mask]\n",
    "    mask = np.random.choice(num_training, num_dev, replace=False)\n",
    "    X_dev = X_train[mask]\n",
    "    y_dev = y_train[mask]\n",
    "    \n",
    "    # Preprocessing: reshape the image data into rows\n",
    "    X_train = np.reshape(X_train, (X_train.shape[0], -1))\n",
    "    X_val = np.reshape(X_val, (X_val.shape[0], -1))\n",
    "    X_test = np.reshape(X_test, (X_test.shape[0], -1))\n",
    "    X_dev = np.reshape(X_dev, (X_dev.shape[0], -1))\n",
    "    \n",
    "    # Normalize the data: subtract the mean image\n",
    "    mean_image = np.mean(X_train, axis = 0)\n",
    "    X_train -= mean_image\n",
    "    X_val -= mean_image\n",
    "    X_test -= mean_image\n",
    "    X_dev -= mean_image\n",
    "    \n",
    "    # add bias dimension and transform into columns\n",
    "    X_train = np.hstack([X_train, np.ones((X_train.shape[0], 1))])\n",
    "    X_val = np.hstack([X_val, np.ones((X_val.shape[0], 1))])\n",
    "    X_test = np.hstack([X_test, np.ones((X_test.shape[0], 1))])\n",
    "    X_dev = np.hstack([X_dev, np.ones((X_dev.shape[0], 1))])\n",
    "    \n",
    "    return X_train, y_train, X_val, y_val, X_test, y_test, X_dev, y_dev\n",
    "\n",
    "\n",
    "# Invoke the above function to get our data.\n",
    "X_train, y_train, X_val, y_val, X_test, y_test, X_dev, y_dev = get_CIFAR10_data()\n",
    "print('Train data shape: ', X_train.shape)\n",
    "print('Train labels shape: ', y_train.shape)\n",
    "print('Validation data shape: ', X_val.shape)\n",
    "print('Validation labels shape: ', y_val.shape)\n",
    "print('Test data shape: ', X_test.shape)\n",
    "print('Test labels shape: ', y_test.shape)\n",
    "print('dev data shape: ', X_dev.shape)\n",
    "print('dev labels shape: ', y_dev.shape)"
   ]
  },
  {
   "cell_type": "markdown",
   "metadata": {
    "deletable": true,
    "editable": true
   },
   "source": [
    "## Softmax Classifier\n",
    "\n",
    "Your code for this section will all be written inside **cs231n/classifiers/softmax.py**. \n"
   ]
  },
  {
   "cell_type": "code",
   "execution_count": 4,
   "metadata": {
    "collapsed": false,
    "deletable": true,
    "editable": true
   },
   "outputs": [
    {
     "name": "stdout",
     "output_type": "stream",
     "text": [
      "loss: 2.341649\n",
      "sanity check: 2.302585\n"
     ]
    }
   ],
   "source": [
    "# First implement the naive softmax loss function with nested loops.\n",
    "# Open the file cs231n/classifiers/softmax.py and implement the\n",
    "# softmax_loss_naive function.\n",
    "\n",
    "from cs231n.classifiers.softmax import softmax_loss_naive\n",
    "import time\n",
    "\n",
    "# Generate a random softmax weight matrix and use it to compute the loss.\n",
    "W = np.random.randn(3073, 10) * 0.0001\n",
    "loss, grad = softmax_loss_naive(W, X_dev, y_dev, 0.0)\n",
    "\n",
    "# As a rough sanity check, our loss should be something close to -log(0.1).\n",
    "print('loss: %f' % loss)\n",
    "print('sanity check: %f' % (-np.log(0.1)))"
   ]
  },
  {
   "cell_type": "markdown",
   "metadata": {
    "deletable": true,
    "editable": true
   },
   "source": [
    "## Inline Question 1:\n",
    "Why do we expect our loss to be close to -log(0.1)? Explain briefly.**\n",
    "\n",
    "**Your answer:** *Fill this in*\n"
   ]
  },
  {
   "cell_type": "code",
   "execution_count": 19,
   "metadata": {
    "collapsed": false,
    "deletable": true,
    "editable": true
   },
   "outputs": [
    {
     "name": "stdout",
     "output_type": "stream",
     "text": [
      "numerical: -2.042021 analytic: -2.042021, relative error: 1.680250e-08\n",
      "numerical: 0.379723 analytic: 0.379722, relative error: 1.667780e-07\n",
      "numerical: 0.631914 analytic: 0.631914, relative error: 9.281482e-08\n",
      "numerical: 0.121268 analytic: 0.121268, relative error: 1.318478e-08\n",
      "numerical: -0.998676 analytic: -0.998676, relative error: 8.603662e-09\n",
      "numerical: 0.362166 analytic: 0.362166, relative error: 2.809306e-08\n",
      "numerical: 0.538331 analytic: 0.538331, relative error: 2.829768e-08\n",
      "numerical: -1.309977 analytic: -1.309977, relative error: 7.304272e-10\n",
      "numerical: -3.229076 analytic: -3.229076, relative error: 1.463716e-08\n",
      "numerical: -0.077839 analytic: -0.077839, relative error: 1.526240e-07\n",
      "numerical: -1.290454 analytic: -1.290454, relative error: 8.124602e-10\n",
      "numerical: -2.324847 analytic: -2.324847, relative error: 2.509511e-09\n",
      "numerical: -0.594105 analytic: -0.594105, relative error: 2.578966e-08\n",
      "numerical: 0.260867 analytic: 0.260867, relative error: 8.599196e-09\n",
      "numerical: 2.462201 analytic: 2.462201, relative error: 2.794124e-08\n",
      "numerical: -0.700635 analytic: -0.700635, relative error: 5.457354e-08\n",
      "numerical: -0.418896 analytic: -0.418896, relative error: 5.871475e-09\n",
      "numerical: 0.955558 analytic: 0.955558, relative error: 7.042713e-08\n",
      "numerical: 3.024701 analytic: 3.024701, relative error: 5.865980e-09\n",
      "numerical: 0.245028 analytic: 0.245028, relative error: 1.780967e-07\n"
     ]
    }
   ],
   "source": [
    "# Complete the implementation of softmax_loss_naive and implement a (naive)\n",
    "# version of the gradient that uses nested loops.\n",
    "loss, grad = softmax_loss_naive(W, X_dev, y_dev, 0.0)\n",
    "\n",
    "# As we did for the SVM, use numeric gradient checking as a debugging tool.\n",
    "# The numeric gradient should be close to the analytic gradient.\n",
    "from cs231n.gradient_check import grad_check_sparse\n",
    "f = lambda w: softmax_loss_naive(w, X_dev, y_dev, 0.0)[0]\n",
    "grad_numerical = grad_check_sparse(f, W, grad, 10)\n",
    "\n",
    "# similar to SVM case, do another gradient check with regularization\n",
    "loss, grad = softmax_loss_naive(W, X_dev, y_dev, 5e1)\n",
    "f = lambda w: softmax_loss_naive(w, X_dev, y_dev, 5e1)[0]\n",
    "grad_numerical = grad_check_sparse(f, W, grad, 10)"
   ]
  },
  {
   "cell_type": "code",
   "execution_count": 18,
   "metadata": {
    "collapsed": false,
    "deletable": true,
    "editable": true
   },
   "outputs": [
    {
     "name": "stdout",
     "output_type": "stream",
     "text": [
      "naive loss: 2.341649e+00 computed in 0.277866s\n",
      "vectorized loss: 2.341649e+00 computed in 0.008121s\n",
      "Loss difference: 0.000000\n",
      "Gradient difference: 0.000000\n"
     ]
    }
   ],
   "source": [
    "# Now that we have a naive implementation of the softmax loss function and its gradient,\n",
    "# implement a vectorized version in softmax_loss_vectorized.\n",
    "# The two versions should compute the same results, but the vectorized version should be\n",
    "# much faster.\n",
    "tic = time.time()\n",
    "loss_naive, grad_naive = softmax_loss_naive(W, X_dev, y_dev, 0.000005)\n",
    "toc = time.time()\n",
    "print('naive loss: %e computed in %fs' % (loss_naive, toc - tic))\n",
    "\n",
    "from cs231n.classifiers.softmax import softmax_loss_vectorized\n",
    "tic = time.time()\n",
    "loss_vectorized, grad_vectorized = softmax_loss_vectorized(W, X_dev, y_dev, 0.000005)\n",
    "toc = time.time()\n",
    "print('vectorized loss: %e computed in %fs' % (loss_vectorized, toc - tic))\n",
    "\n",
    "# As we did for the SVM, we use the Frobenius norm to compare the two versions\n",
    "# of the gradient.\n",
    "grad_difference = np.linalg.norm(grad_naive - grad_vectorized, ord='fro')\n",
    "print('Loss difference: %f' % np.abs(loss_naive - loss_vectorized))\n",
    "print('Gradient difference: %f' % grad_difference)"
   ]
  },
  {
   "cell_type": "code",
   "execution_count": 71,
   "metadata": {
    "collapsed": false,
    "deletable": true,
    "editable": true
   },
   "outputs": [
    {
     "name": "stdout",
     "output_type": "stream",
     "text": [
      "iteration 0 / 1000: loss 313.051789\n",
      "iteration 100 / 1000: loss 255.344389\n",
      "iteration 200 / 1000: loss 209.044611\n",
      "iteration 300 / 1000: loss 170.947916\n",
      "iteration 400 / 1000: loss 139.929843\n",
      "iteration 500 / 1000: loss 114.952189\n",
      "iteration 600 / 1000: loss 94.221026\n",
      "iteration 700 / 1000: loss 77.325677\n",
      "iteration 800 / 1000: loss 63.737239\n",
      "iteration 900 / 1000: loss 52.406338\n",
      "iteration 0 / 1000: loss 624.449088\n",
      "iteration 100 / 1000: loss 417.443731\n",
      "iteration 200 / 1000: loss 280.011338\n",
      "iteration 300 / 1000: loss 188.108255\n",
      "iteration 400 / 1000: loss 126.447470\n",
      "iteration 500 / 1000: loss 85.309863\n",
      "iteration 600 / 1000: loss 57.884696\n",
      "iteration 700 / 1000: loss 39.320317\n",
      "iteration 800 / 1000: loss 26.975931\n",
      "iteration 900 / 1000: loss 18.868276\n",
      "iteration 0 / 1000: loss 1240.707481\n",
      "iteration 100 / 1000: loss 556.114513\n",
      "iteration 200 / 1000: loss 250.263150\n",
      "iteration 300 / 1000: loss 113.258965\n",
      "iteration 400 / 1000: loss 51.885224\n",
      "iteration 500 / 1000: loss 24.460339\n",
      "iteration 600 / 1000: loss 12.138027\n",
      "iteration 700 / 1000: loss 6.607085\n",
      "iteration 800 / 1000: loss 4.150934\n",
      "iteration 900 / 1000: loss 3.023226\n",
      "iteration 0 / 1000: loss 311.731243\n",
      "iteration 100 / 1000: loss 230.429067\n",
      "iteration 200 / 1000: loss 170.479288\n",
      "iteration 300 / 1000: loss 126.421033\n",
      "iteration 400 / 1000: loss 94.005476\n",
      "iteration 500 / 1000: loss 70.138158\n",
      "iteration 600 / 1000: loss 52.273082\n",
      "iteration 700 / 1000: loss 39.208829\n",
      "iteration 800 / 1000: loss 29.484301\n",
      "iteration 900 / 1000: loss 22.321622\n",
      "iteration 0 / 1000: loss 610.548520\n",
      "iteration 100 / 1000: loss 335.029060\n",
      "iteration 200 / 1000: loss 184.110864\n",
      "iteration 300 / 1000: loss 101.605799\n",
      "iteration 400 / 1000: loss 56.561540\n",
      "iteration 500 / 1000: loss 31.836036\n",
      "iteration 600 / 1000: loss 18.401320\n",
      "iteration 700 / 1000: loss 10.995472\n",
      "iteration 800 / 1000: loss 6.970610\n",
      "iteration 900 / 1000: loss 4.682939\n",
      "iteration 0 / 1000: loss 1246.581514\n",
      "iteration 100 / 1000: loss 374.574567\n",
      "iteration 200 / 1000: loss 113.747465\n",
      "iteration 300 / 1000: loss 35.444770\n",
      "iteration 400 / 1000: loss 12.090414\n",
      "iteration 500 / 1000: loss 5.130481\n",
      "iteration 600 / 1000: loss 3.019919\n",
      "iteration 700 / 1000: loss 2.372788\n",
      "iteration 800 / 1000: loss 2.229596\n",
      "iteration 900 / 1000: loss 2.214202\n",
      "iteration 0 / 1000: loss 312.462586\n",
      "iteration 100 / 1000: loss 208.128368\n",
      "iteration 200 / 1000: loss 139.415912\n",
      "iteration 300 / 1000: loss 93.921624\n",
      "iteration 400 / 1000: loss 63.519557\n",
      "iteration 500 / 1000: loss 43.170457\n",
      "iteration 600 / 1000: loss 29.471948\n",
      "iteration 700 / 1000: loss 20.366749\n",
      "iteration 800 / 1000: loss 14.334609\n",
      "iteration 900 / 1000: loss 10.157277\n",
      "iteration 0 / 1000: loss 620.609805\n",
      "iteration 100 / 1000: loss 278.126544\n",
      "iteration 200 / 1000: loss 125.749296\n",
      "iteration 300 / 1000: loss 57.382477\n",
      "iteration 400 / 1000: loss 26.787931\n",
      "iteration 500 / 1000: loss 13.188366\n",
      "iteration 600 / 1000: loss 6.988741\n",
      "iteration 700 / 1000: loss 4.274692\n",
      "iteration 800 / 1000: loss 3.068609\n",
      "iteration 900 / 1000: loss 2.519441\n",
      "iteration 0 / 1000: loss 1235.143087\n",
      "iteration 100 / 1000: loss 248.495123\n",
      "iteration 200 / 1000: loss 51.412694\n",
      "iteration 300 / 1000: loss 12.007086\n",
      "iteration 400 / 1000: loss 4.046746\n",
      "iteration 500 / 1000: loss 2.524582\n",
      "iteration 600 / 1000: loss 2.227573\n",
      "iteration 700 / 1000: loss 2.164288\n",
      "iteration 800 / 1000: loss 2.122454\n",
      "iteration 900 / 1000: loss 2.118401\n",
      "lr 5.000000e-08 reg 1.000000e+04 train accuracy: 0.247143 val accuracy: 0.239000\n",
      "lr 5.000000e-08 reg 2.000000e+04 train accuracy: 0.299102 val accuracy: 0.297000\n",
      "lr 5.000000e-08 reg 4.000000e+04 train accuracy: 0.311224 val accuracy: 0.324000\n",
      "lr 7.500000e-08 reg 1.000000e+04 train accuracy: 0.299714 val accuracy: 0.300000\n",
      "lr 7.500000e-08 reg 2.000000e+04 train accuracy: 0.327224 val accuracy: 0.331000\n",
      "lr 7.500000e-08 reg 4.000000e+04 train accuracy: 0.309204 val accuracy: 0.334000\n",
      "lr 1.000000e-07 reg 1.000000e+04 train accuracy: 0.324327 val accuracy: 0.326000\n",
      "lr 1.000000e-07 reg 2.000000e+04 train accuracy: 0.337878 val accuracy: 0.351000\n",
      "lr 1.000000e-07 reg 4.000000e+04 train accuracy: 0.314000 val accuracy: 0.331000\n",
      "best validation accuracy achieved during cross-validation: 0.351000\n"
     ]
    }
   ],
   "source": [
    "# Use the validation set to tune hyperparameters (regularization strength and\n",
    "# learning rate). You should experiment with different ranges for the learning\n",
    "# rates and regularization strengths; if you are careful you should be able to\n",
    "# get a classification accuracy of over 0.35 on the validation set.\n",
    "from cs231n.classifiers import Softmax\n",
    "results = {}\n",
    "best_val = -1\n",
    "best_softmax = None\n",
    "learning_rates = [5e-8, 7.5e-8, 1e-7]\n",
    "regularization_strengths = [1e4, 2e4, 4e4]\n",
    "\n",
    "################################################################################\n",
    "# TODO:                                                                        #\n",
    "# Use the validation set to set the learning rate and regularization strength. #\n",
    "# This should be identical to the validation that you did for the SVM; save    #\n",
    "# the best trained softmax classifer in best_softmax.                          #\n",
    "################################################################################\n",
    "for lr in learning_rates:\n",
    "    for reg in regularization_strengths:\n",
    "        softmax = Softmax()\n",
    "        loss_hist = softmax.train(X_train, y_train, learning_rate=lr, reg=reg,\n",
    "                      num_iters=1000, verbose=True)\n",
    "        y_train_pred = softmax.predict(X_train)\n",
    "        y_val_pred = softmax.predict(X_val)\n",
    "        train_acc = np.mean(y_train == y_train_pred)\n",
    "        val_acc = np.mean(y_val == y_val_pred)\n",
    "        results[(lr, reg)] = (train_acc, val_acc)\n",
    "        if (best_val < val_acc):\n",
    "            best_val = val_acc\n",
    "            best_softmax = softmax\n",
    "################################################################################\n",
    "#                              END OF YOUR CODE                                #\n",
    "################################################################################\n",
    "    \n",
    "# Print out results.\n",
    "for lr, reg in sorted(results):\n",
    "    train_accuracy, val_accuracy = results[(lr, reg)]\n",
    "    print('lr %e reg %e train accuracy: %f val accuracy: %f' % (\n",
    "                lr, reg, train_accuracy, val_accuracy))\n",
    "    \n",
    "print('best validation accuracy achieved during cross-validation: %f' % best_val)"
   ]
  },
  {
   "cell_type": "code",
   "execution_count": null,
   "metadata": {
    "collapsed": false,
    "deletable": true,
    "editable": true
   },
   "outputs": [],
   "source": [
    "# evaluate on test set\n",
    "# Evaluate the best softmax on test set\n",
    "y_test_pred = best_softmax.predict(X_test)\n",
    "test_accuracy = np.mean(y_test == y_test_pred)\n",
    "print('softmax on raw pixels final test set accuracy: %f' % (test_accuracy, ))"
   ]
  },
  {
   "cell_type": "code",
   "execution_count": null,
   "metadata": {
    "collapsed": false,
    "deletable": true,
    "editable": true
   },
   "outputs": [],
   "source": [
    "# Visualize the learned weights for each class\n",
    "w = best_softmax.W[:-1,:] # strip out the bias\n",
    "w = w.reshape(32, 32, 3, 10)\n",
    "\n",
    "w_min, w_max = np.min(w), np.max(w)\n",
    "\n",
    "classes = ['plane', 'car', 'bird', 'cat', 'deer', 'dog', 'frog', 'horse', 'ship', 'truck']\n",
    "for i in range(10):\n",
    "    plt.subplot(2, 5, i + 1)\n",
    "    \n",
    "    # Rescale the weights to be between 0 and 255\n",
    "    wimg = 255.0 * (w[:, :, :, i].squeeze() - w_min) / (w_max - w_min)\n",
    "    plt.imshow(wimg.astype('uint8'))\n",
    "    plt.axis('off')\n",
    "    plt.title(classes[i])"
   ]
  }
 ],
 "metadata": {
  "kernelspec": {
   "display_name": "Python 3",
   "language": "python",
   "name": "python3"
  },
  "language_info": {
   "codemirror_mode": {
    "name": "ipython",
    "version": 3
   },
   "file_extension": ".py",
   "mimetype": "text/x-python",
   "name": "python",
   "nbconvert_exporter": "python",
   "pygments_lexer": "ipython3",
   "version": "3.5.3"
  }
 },
 "nbformat": 4,
 "nbformat_minor": 0
}
