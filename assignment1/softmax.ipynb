{
 "cells": [
  {
   "cell_type": "markdown",
   "metadata": {
    "deletable": true,
    "editable": true
   },
   "source": [
    "# Softmax exercise\n",
    "\n",
    "*Complete and hand in this completed worksheet (including its outputs and any supporting code outside of the worksheet) with your assignment submission. For more details see the [assignments page](http://vision.stanford.edu/teaching/cs231n/assignments.html) on the course website.*\n",
    "\n",
    "This exercise is analogous to the SVM exercise. You will:\n",
    "\n",
    "- implement a fully-vectorized **loss function** for the Softmax classifier\n",
    "- implement the fully-vectorized expression for its **analytic gradient**\n",
    "- **check your implementation** with numerical gradient\n",
    "- use a validation set to **tune the learning rate and regularization** strength\n",
    "- **optimize** the loss function with **SGD**\n",
    "- **visualize** the final learned weights\n"
   ]
  },
  {
   "cell_type": "code",
   "execution_count": 17,
   "metadata": {
    "collapsed": false,
    "deletable": true,
    "editable": true
   },
   "outputs": [
    {
     "name": "stdout",
     "output_type": "stream",
     "text": [
      "The autoreload extension is already loaded. To reload it, use:\n",
      "  %reload_ext autoreload\n"
     ]
    }
   ],
   "source": [
    "import random\n",
    "import numpy as np\n",
    "from cs231n.data_utils import load_CIFAR10\n",
    "import matplotlib.pyplot as plt\n",
    "\n",
    "from IPython.core.interactiveshell import InteractiveShell\n",
    "\n",
    "from __future__ import print_function\n",
    "\n",
    "InteractiveShell.ast_node_interactivity = \"last_expr\"\n",
    "\n",
    "%matplotlib inline\n",
    "plt.rcParams['figure.figsize'] = (10.0, 8.0) # set default size of plots\n",
    "plt.rcParams['image.interpolation'] = 'nearest'\n",
    "plt.rcParams['image.cmap'] = 'gray'\n",
    "\n",
    "# for auto-reloading extenrnal modules\n",
    "# see http://stackoverflow.com/questions/1907993/autoreload-of-modules-in-ipython\n",
    "%load_ext autoreload\n",
    "%autoreload 2"
   ]
  },
  {
   "cell_type": "code",
   "execution_count": 10,
   "metadata": {
    "collapsed": false,
    "deletable": true,
    "editable": true
   },
   "outputs": [
    {
     "name": "stdout",
     "output_type": "stream",
     "text": [
      "Train data shape:  (49000, 3073)\n",
      "Train labels shape:  (49000,)\n",
      "Validation data shape:  (1000, 3073)\n",
      "Validation labels shape:  (1000,)\n",
      "Test data shape:  (1000, 3073)\n",
      "Test labels shape:  (1000,)\n",
      "dev data shape:  (500, 3073)\n",
      "dev labels shape:  (500,)\n"
     ]
    }
   ],
   "source": [
    "def get_CIFAR10_data(num_training=49000, num_validation=1000, num_test=1000, num_dev=500):\n",
    "    \"\"\"\n",
    "    Load the CIFAR-10 dataset from disk and perform preprocessing to prepare\n",
    "    it for the linear classifier. These are the same steps as we used for the\n",
    "    SVM, but condensed to a single function.  \n",
    "    \"\"\"\n",
    "    # Load the raw CIFAR-10 data\n",
    "    cifar10_dir = 'cs231n/datasets/cifar-10-batches-py'\n",
    "    X_train, y_train, X_test, y_test = load_CIFAR10(cifar10_dir)\n",
    "    \n",
    "    # subsample the data\n",
    "    mask = list(range(num_training, num_training + num_validation))\n",
    "    X_val = X_train[mask]\n",
    "    y_val = y_train[mask]\n",
    "    mask = list(range(num_training))\n",
    "    X_train = X_train[mask]\n",
    "    y_train = y_train[mask]\n",
    "    mask = list(range(num_test))\n",
    "    X_test = X_test[mask]\n",
    "    y_test = y_test[mask]\n",
    "    mask = np.random.choice(num_training, num_dev, replace=False)\n",
    "    X_dev = X_train[mask]\n",
    "    y_dev = y_train[mask]\n",
    "    \n",
    "    # Preprocessing: reshape the image data into rows\n",
    "    X_train = np.reshape(X_train, (X_train.shape[0], -1))\n",
    "    X_val = np.reshape(X_val, (X_val.shape[0], -1))\n",
    "    X_test = np.reshape(X_test, (X_test.shape[0], -1))\n",
    "    X_dev = np.reshape(X_dev, (X_dev.shape[0], -1))\n",
    "    \n",
    "    # Normalize the data: subtract the mean image\n",
    "    mean_image = np.mean(X_train, axis = 0)\n",
    "    X_train -= mean_image\n",
    "    X_val -= mean_image\n",
    "    X_test -= mean_image\n",
    "    X_dev -= mean_image\n",
    "    \n",
    "    # add bias dimension and transform into columns\n",
    "    X_train = np.hstack([X_train, np.ones((X_train.shape[0], 1))])\n",
    "    X_val = np.hstack([X_val, np.ones((X_val.shape[0], 1))])\n",
    "    X_test = np.hstack([X_test, np.ones((X_test.shape[0], 1))])\n",
    "    X_dev = np.hstack([X_dev, np.ones((X_dev.shape[0], 1))])\n",
    "    \n",
    "    return X_train, y_train, X_val, y_val, X_test, y_test, X_dev, y_dev\n",
    "\n",
    "\n",
    "# Invoke the above function to get our data.\n",
    "X_train, y_train, X_val, y_val, X_test, y_test, X_dev, y_dev = get_CIFAR10_data()\n",
    "print('Train data shape: ', X_train.shape)\n",
    "print('Train labels shape: ', y_train.shape)\n",
    "print('Validation data shape: ', X_val.shape)\n",
    "print('Validation labels shape: ', y_val.shape)\n",
    "print('Test data shape: ', X_test.shape)\n",
    "print('Test labels shape: ', y_test.shape)\n",
    "print('dev data shape: ', X_dev.shape)\n",
    "print('dev labels shape: ', y_dev.shape)"
   ]
  },
  {
   "cell_type": "markdown",
   "metadata": {
    "deletable": true,
    "editable": true
   },
   "source": [
    "## Softmax Classifier\n",
    "\n",
    "Your code for this section will all be written inside **cs231n/classifiers/softmax.py**. \n"
   ]
  },
  {
   "cell_type": "code",
   "execution_count": 11,
   "metadata": {
    "collapsed": false,
    "deletable": true,
    "editable": true
   },
   "outputs": [
    {
     "name": "stdout",
     "output_type": "stream",
     "text": [
      "loss: 2.394796\n",
      "sanity check: 2.302585\n"
     ]
    }
   ],
   "source": [
    "# First implement the naive softmax loss function with nested loops.\n",
    "# Open the file cs231n/classifiers/softmax.py and implement the\n",
    "# softmax_loss_naive function.\n",
    "\n",
    "from cs231n.classifiers.softmax import softmax_loss_naive\n",
    "import time\n",
    "\n",
    "# Generate a random softmax weight matrix and use it to compute the loss.\n",
    "W = np.random.randn(3073, 10) * 0.0001\n",
    "loss, grad = softmax_loss_naive(W, X_dev, y_dev, 0.0)\n",
    "\n",
    "# As a rough sanity check, our loss should be something close to -log(0.1).\n",
    "print('loss: %f' % loss)\n",
    "print('sanity check: %f' % (-np.log(0.1)))"
   ]
  },
  {
   "cell_type": "markdown",
   "metadata": {
    "deletable": true,
    "editable": true
   },
   "source": [
    "## Inline Question 1:\n",
    "Why do we expect our loss to be close to -log(0.1)? Explain briefly.**\n",
    "\n",
    "**Your answer:** There are 10 classes, so in case of random choise probability is equal to 0.1.\n"
   ]
  },
  {
   "cell_type": "code",
   "execution_count": 12,
   "metadata": {
    "collapsed": false,
    "deletable": true,
    "editable": true
   },
   "outputs": [
    {
     "name": "stdout",
     "output_type": "stream",
     "text": [
      "numerical: -1.017165 analytic: -1.017165, relative error: 4.723460e-08\n",
      "numerical: 0.653044 analytic: 0.653044, relative error: 2.024738e-08\n",
      "numerical: 0.945963 analytic: 0.945963, relative error: 3.263938e-08\n",
      "numerical: -2.095486 analytic: -2.095486, relative error: 2.865673e-09\n",
      "numerical: -0.699589 analytic: -0.699589, relative error: 6.423369e-08\n",
      "numerical: -2.410181 analytic: -2.410181, relative error: 6.103365e-09\n",
      "numerical: -2.944738 analytic: -2.944738, relative error: 1.569840e-08\n",
      "numerical: 1.493406 analytic: 1.493406, relative error: 7.645443e-09\n",
      "numerical: 0.618741 analytic: 0.618741, relative error: 8.775275e-08\n",
      "numerical: -0.553286 analytic: -0.553286, relative error: 7.626227e-08\n",
      "numerical: 3.773007 analytic: 3.773007, relative error: 1.915572e-08\n",
      "numerical: 2.136311 analytic: 2.136311, relative error: 3.913442e-08\n",
      "numerical: 0.360144 analytic: 0.360144, relative error: 1.194876e-07\n",
      "numerical: 0.465042 analytic: 0.465042, relative error: 2.682905e-08\n",
      "numerical: -0.632613 analytic: -0.632613, relative error: 4.245579e-10\n",
      "numerical: -3.796175 analytic: -3.796175, relative error: 7.953242e-09\n",
      "numerical: -2.248391 analytic: -2.248391, relative error: 6.549505e-09\n",
      "numerical: 0.392633 analytic: 0.392633, relative error: 1.393479e-07\n",
      "numerical: 2.147657 analytic: 2.147657, relative error: 2.937864e-09\n",
      "numerical: -1.053343 analytic: -1.053343, relative error: 2.402892e-08\n"
     ]
    }
   ],
   "source": [
    "# Complete the implementation of softmax_loss_naive and implement a (naive)\n",
    "# version of the gradient that uses nested loops.\n",
    "loss, grad = softmax_loss_naive(W, X_dev, y_dev, 0.0)\n",
    "\n",
    "# As we did for the SVM, use numeric gradient checking as a debugging tool.\n",
    "# The numeric gradient should be close to the analytic gradient.\n",
    "from cs231n.gradient_check import grad_check_sparse\n",
    "f = lambda w: softmax_loss_naive(w, X_dev, y_dev, 0.0)[0]\n",
    "grad_numerical = grad_check_sparse(f, W, grad, 10)\n",
    "\n",
    "# similar to SVM case, do another gradient check with regularization\n",
    "loss, grad = softmax_loss_naive(W, X_dev, y_dev, 5e1)\n",
    "f = lambda w: softmax_loss_naive(w, X_dev, y_dev, 5e1)[0]\n",
    "grad_numerical = grad_check_sparse(f, W, grad, 10)"
   ]
  },
  {
   "cell_type": "code",
   "execution_count": 13,
   "metadata": {
    "collapsed": false,
    "deletable": true,
    "editable": true
   },
   "outputs": [
    {
     "name": "stdout",
     "output_type": "stream",
     "text": [
      "naive loss: 2.394796e+00 computed in 0.253376s\n",
      "vectorized loss: 2.394796e+00 computed in 0.034429s\n",
      "Loss difference: 0.000000\n",
      "Gradient difference: 0.000000\n"
     ]
    }
   ],
   "source": [
    "# Now that we have a naive implementation of the softmax loss function and its gradient,\n",
    "# implement a vectorized version in softmax_loss_vectorized.\n",
    "# The two versions should compute the same results, but the vectorized version should be\n",
    "# much faster.\n",
    "tic = time.time()\n",
    "loss_naive, grad_naive = softmax_loss_naive(W, X_dev, y_dev, 0.000005)\n",
    "toc = time.time()\n",
    "print('naive loss: %e computed in %fs' % (loss_naive, toc - tic))\n",
    "\n",
    "from cs231n.classifiers.softmax import softmax_loss_vectorized\n",
    "tic = time.time()\n",
    "loss_vectorized, grad_vectorized = softmax_loss_vectorized(W, X_dev, y_dev, 0.000005)\n",
    "toc = time.time()\n",
    "print('vectorized loss: %e computed in %fs' % (loss_vectorized, toc - tic))\n",
    "\n",
    "# As we did for the SVM, we use the Frobenius norm to compare the two versions\n",
    "# of the gradient.\n",
    "grad_difference = np.linalg.norm(grad_naive - grad_vectorized, ord='fro')\n",
    "print('Loss difference: %f' % np.abs(loss_naive - loss_vectorized))\n",
    "print('Gradient difference: %f' % grad_difference)"
   ]
  },
  {
   "cell_type": "code",
   "execution_count": 14,
   "metadata": {
    "collapsed": false,
    "deletable": true,
    "editable": true,
    "scrolled": true
   },
   "outputs": [
    {
     "name": "stdout",
     "output_type": "stream",
     "text": [
      "iteration 0 / 1000: loss 312.064482\n",
      "iteration 100 / 1000: loss 254.658680\n",
      "iteration 200 / 1000: loss 208.297290\n",
      "iteration 300 / 1000: loss 170.562275\n",
      "iteration 400 / 1000: loss 140.018624\n",
      "iteration 500 / 1000: loss 114.704035\n",
      "iteration 600 / 1000: loss 94.162069\n",
      "iteration 700 / 1000: loss 77.340379\n",
      "iteration 800 / 1000: loss 63.557941\n",
      "iteration 900 / 1000: loss 52.289803\n",
      "iteration 0 / 1000: loss 621.641590\n",
      "iteration 100 / 1000: loss 416.146178\n",
      "iteration 200 / 1000: loss 279.362408\n",
      "iteration 300 / 1000: loss 187.435792\n",
      "iteration 400 / 1000: loss 125.984062\n",
      "iteration 500 / 1000: loss 84.947855\n",
      "iteration 600 / 1000: loss 57.523303\n",
      "iteration 700 / 1000: loss 39.261744\n",
      "iteration 800 / 1000: loss 26.966793\n",
      "iteration 900 / 1000: loss 18.785498\n",
      "iteration 0 / 1000: loss 1221.531695\n",
      "iteration 100 / 1000: loss 548.025637\n",
      "iteration 200 / 1000: loss 246.736029\n",
      "iteration 300 / 1000: loss 111.507675\n",
      "iteration 400 / 1000: loss 51.284552\n",
      "iteration 500 / 1000: loss 24.162329\n",
      "iteration 600 / 1000: loss 11.988563\n",
      "iteration 700 / 1000: loss 6.540282\n",
      "iteration 800 / 1000: loss 4.097661\n",
      "iteration 900 / 1000: loss 3.030449\n",
      "iteration 0 / 1000: loss 313.191288\n",
      "iteration 100 / 1000: loss 231.618446\n",
      "iteration 200 / 1000: loss 171.405144\n",
      "iteration 300 / 1000: loss 127.182107\n",
      "iteration 400 / 1000: loss 94.533106\n",
      "iteration 500 / 1000: loss 70.523449\n",
      "iteration 600 / 1000: loss 52.696605\n",
      "iteration 700 / 1000: loss 39.534373\n",
      "iteration 800 / 1000: loss 29.661658\n",
      "iteration 900 / 1000: loss 22.474109\n",
      "iteration 0 / 1000: loss 619.821051\n",
      "iteration 100 / 1000: loss 339.332934\n",
      "iteration 200 / 1000: loss 186.317167\n",
      "iteration 300 / 1000: loss 103.015690\n",
      "iteration 400 / 1000: loss 57.280132\n",
      "iteration 500 / 1000: loss 32.277870\n",
      "iteration 600 / 1000: loss 18.562385\n",
      "iteration 700 / 1000: loss 11.113285\n",
      "iteration 800 / 1000: loss 7.023958\n",
      "iteration 900 / 1000: loss 4.785321\n",
      "iteration 0 / 1000: loss 1221.357015\n",
      "iteration 100 / 1000: loss 367.013064\n",
      "iteration 200 / 1000: loss 111.290679\n",
      "iteration 300 / 1000: loss 34.807514\n",
      "iteration 400 / 1000: loss 11.924104\n",
      "iteration 500 / 1000: loss 5.070220\n",
      "iteration 600 / 1000: loss 2.995661\n",
      "iteration 700 / 1000: loss 2.413868\n",
      "iteration 800 / 1000: loss 2.198181\n",
      "iteration 900 / 1000: loss 2.097484\n",
      "iteration 0 / 1000: loss 310.197245\n",
      "iteration 100 / 1000: loss 207.421501\n",
      "iteration 200 / 1000: loss 139.407225\n",
      "iteration 300 / 1000: loss 93.929117\n",
      "iteration 400 / 1000: loss 63.423662\n",
      "iteration 500 / 1000: loss 43.106131\n",
      "iteration 600 / 1000: loss 29.401717\n",
      "iteration 700 / 1000: loss 20.425285\n",
      "iteration 800 / 1000: loss 14.242943\n",
      "iteration 900 / 1000: loss 10.209116\n",
      "iteration 0 / 1000: loss 612.030651\n",
      "iteration 100 / 1000: loss 274.033525\n",
      "iteration 200 / 1000: loss 123.735202\n",
      "iteration 300 / 1000: loss 56.464886\n",
      "iteration 400 / 1000: loss 26.349084\n",
      "iteration 500 / 1000: loss 12.929620\n",
      "iteration 600 / 1000: loss 6.922442\n",
      "iteration 700 / 1000: loss 4.307788\n",
      "iteration 800 / 1000: loss 3.080753\n",
      "iteration 900 / 1000: loss 2.485448\n",
      "iteration 0 / 1000: loss 1223.261512\n",
      "iteration 100 / 1000: loss 246.273090\n",
      "iteration 200 / 1000: loss 50.904333\n",
      "iteration 300 / 1000: loss 11.888976\n",
      "iteration 400 / 1000: loss 4.095922\n",
      "iteration 500 / 1000: loss 2.513920\n",
      "iteration 600 / 1000: loss 2.197214\n",
      "iteration 700 / 1000: loss 2.141261\n",
      "iteration 800 / 1000: loss 2.146192\n",
      "iteration 900 / 1000: loss 2.114799\n",
      "lr 5.000000e-08 reg 1.000000e+04 train accuracy: 0.248694 val accuracy: 0.255000\n",
      "lr 5.000000e-08 reg 2.000000e+04 train accuracy: 0.301592 val accuracy: 0.323000\n",
      "lr 5.000000e-08 reg 4.000000e+04 train accuracy: 0.313755 val accuracy: 0.331000\n",
      "lr 7.500000e-08 reg 1.000000e+04 train accuracy: 0.296102 val accuracy: 0.300000\n",
      "lr 7.500000e-08 reg 2.000000e+04 train accuracy: 0.327102 val accuracy: 0.334000\n",
      "lr 7.500000e-08 reg 4.000000e+04 train accuracy: 0.309592 val accuracy: 0.325000\n",
      "lr 1.000000e-07 reg 1.000000e+04 train accuracy: 0.331898 val accuracy: 0.344000\n",
      "lr 1.000000e-07 reg 2.000000e+04 train accuracy: 0.334551 val accuracy: 0.347000\n",
      "lr 1.000000e-07 reg 4.000000e+04 train accuracy: 0.314327 val accuracy: 0.329000\n",
      "best validation accuracy achieved during cross-validation: 0.347000\n"
     ]
    }
   ],
   "source": [
    "# Use the validation set to tune hyperparameters (regularization strength and\n",
    "# learning rate). You should experiment with different ranges for the learning\n",
    "# rates and regularization strengths; if you are careful you should be able to\n",
    "# get a classification accuracy of over 0.35 on the validation set.\n",
    "from cs231n.classifiers import Softmax\n",
    "results = {}\n",
    "best_val = -1\n",
    "best_softmax = None\n",
    "learning_rates = [5e-8, 7.5e-8, 1e-7]\n",
    "regularization_strengths = [1e4, 2e4, 4e4]\n",
    "\n",
    "################################################################################\n",
    "# TODO:                                                                        #\n",
    "# Use the validation set to set the learning rate and regularization strength. #\n",
    "# This should be identical to the validation that you did for the SVM; save    #\n",
    "# the best trained softmax classifer in best_softmax.                          #\n",
    "################################################################################\n",
    "for lr in learning_rates:\n",
    "    for reg in regularization_strengths:\n",
    "        softmax = Softmax()\n",
    "        loss_hist = softmax.train(X_train, y_train, learning_rate=lr, reg=reg,\n",
    "                      num_iters=1000, verbose=True)\n",
    "        y_train_pred = softmax.predict(X_train)\n",
    "        y_val_pred = softmax.predict(X_val)\n",
    "        train_acc = np.mean(y_train == y_train_pred)\n",
    "        val_acc = np.mean(y_val == y_val_pred)\n",
    "        results[(lr, reg)] = (train_acc, val_acc)\n",
    "        if (best_val < val_acc):\n",
    "            best_val = val_acc\n",
    "            best_softmax = softmax\n",
    "################################################################################\n",
    "#                              END OF YOUR CODE                                #\n",
    "################################################################################\n",
    "    \n",
    "# Print out results.\n",
    "for lr, reg in sorted(results):\n",
    "    train_accuracy, val_accuracy = results[(lr, reg)]\n",
    "    print('lr %e reg %e train accuracy: %f val accuracy: %f' % (\n",
    "                lr, reg, train_accuracy, val_accuracy))\n",
    "    \n",
    "print('best validation accuracy achieved during cross-validation: %f' % best_val)"
   ]
  },
  {
   "cell_type": "code",
   "execution_count": 15,
   "metadata": {
    "collapsed": false,
    "deletable": true,
    "editable": true
   },
   "outputs": [
    {
     "name": "stdout",
     "output_type": "stream",
     "text": [
      "softmax on raw pixels final test set accuracy: 0.337000\n"
     ]
    }
   ],
   "source": [
    "# evaluate on test set\n",
    "# Evaluate the best softmax on test set\n",
    "y_test_pred = best_softmax.predict(X_test)\n",
    "test_accuracy = np.mean(y_test == y_test_pred)\n",
    "print('softmax on raw pixels final test set accuracy: %f' % (test_accuracy, ))"
   ]
  },
  {
   "cell_type": "code",
   "execution_count": 18,
   "metadata": {
    "collapsed": false,
    "deletable": true,
    "editable": true
   },
   "outputs": [
    {
     "data": {
      "image/png": "[encoded data removed]",
      "text/plain": [
       "<matplotlib.figure.Figure at 0x114e8aa58>"
      ]
     },
     "metadata": {},
     "output_type": "display_data"
    }
   ],
   "source": [
    "# Visualize the learned weights for each class\n",
    "w = best_softmax.W[:-1,:] # strip out the bias\n",
    "w = w.reshape(32, 32, 3, 10)\n",
    "\n",
    "w_min, w_max = np.min(w), np.max(w)\n",
    "\n",
    "classes = ['plane', 'car', 'bird', 'cat', 'deer', 'dog', 'frog', 'horse', 'ship', 'truck']\n",
    "for i in range(10):\n",
    "    plt.subplot(2, 5, i + 1)\n",
    "    \n",
    "    # Rescale the weights to be between 0 and 255\n",
    "    wimg = 255.0 * (w[:, :, :, i].squeeze() - w_min) / (w_max - w_min)\n",
    "    plt.imshow(wimg.astype('uint8'))\n",
    "    plt.axis('off')\n",
    "    plt.title(classes[i])"
   ]
  }
 ],
 "metadata": {
  "kernelspec": {
   "display_name": "Python 3",
   "language": "python",
   "name": "python3"
  },
  "language_info": {
   "codemirror_mode": {
    "name": "ipython",
    "version": 3
   },
   "file_extension": ".py",
   "mimetype": "text/x-python",
   "name": "python",
   "nbconvert_exporter": "python",
   "pygments_lexer": "ipython3",
   "version": "3.5.3"
  }
 },
 "nbformat": 4,
 "nbformat_minor": 0
}
