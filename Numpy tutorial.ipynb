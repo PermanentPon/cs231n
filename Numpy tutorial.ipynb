{
 "cells": [
  {
   "cell_type": "code",
   "execution_count": 20,
   "metadata": {
    "collapsed": false,
    "deletable": true,
    "editable": true
   },
   "outputs": [],
   "source": [
    "import numpy as np"
   ]
  },
  {
   "cell_type": "code",
   "execution_count": 44,
   "metadata": {
    "collapsed": false,
    "deletable": true,
    "editable": true
   },
   "outputs": [
    {
     "name": "stdout",
     "output_type": "stream",
     "text": [
      "[[1 1 1 1]\n",
      " [2 2 2 2]]\n",
      "[[1 2 3 4]\n",
      " [1 1 1 1]\n",
      " [1 2 1 9]]\n"
     ]
    }
   ],
   "source": [
    "a = np.array([[1,1,1,1],[2,2,2,2]])\n",
    "print(a)\n",
    "b = np.array([[1,2,3,4],[1,1,1,1],[1,2,1,9]])\n",
    "print(b)\n",
    "dists = np.zeros((2, 3))\n",
    "for i in range(2):\n",
    "      dists[i] = np.sqrt(np.sum(np.square(a[i] - b), axis=1))"
   ]
  },
  {
   "cell_type": "code",
   "execution_count": 43,
   "metadata": {
    "collapsed": false
   },
   "outputs": [
    {
     "data": {
      "text/plain": [
       "array([[1, 1, 1, 1],\n",
       "       [2, 2, 2, 2]])"
      ]
     },
     "execution_count": 43,
     "metadata": {},
     "output_type": "execute_result"
    }
   ],
   "source": [
    "a"
   ]
  },
  {
   "cell_type": "code",
   "execution_count": 42,
   "metadata": {
    "collapsed": false
   },
   "outputs": [
    {
     "data": {
      "text/plain": [
       "array([[[1, 1, 1, 1]],\n",
       "\n",
       "       [[2, 2, 2, 2]]])"
      ]
     },
     "execution_count": 42,
     "metadata": {},
     "output_type": "execute_result"
    }
   ],
   "source": [
    "a[:,np.newaxis]"
   ]
  },
  {
   "cell_type": "code",
   "execution_count": 41,
   "metadata": {
    "collapsed": false
   },
   "outputs": [
    {
     "data": {
      "text/plain": [
       "array([[[ 0, -1, -2, -3],\n",
       "        [ 0,  0,  0,  0],\n",
       "        [ 0, -1,  0, -8]],\n",
       "\n",
       "       [[ 1,  0, -1, -2],\n",
       "        [ 1,  1,  1,  1],\n",
       "        [ 1,  0,  1, -7]]])"
      ]
     },
     "execution_count": 41,
     "metadata": {},
     "output_type": "execute_result"
    }
   ],
   "source": [
    "a[:,np.newaxis]-b"
   ]
  },
  {
   "cell_type": "code",
   "execution_count": 39,
   "metadata": {
    "collapsed": false
   },
   "outputs": [
    {
     "data": {
      "text/plain": [
       "array([-6,  0, -9])"
      ]
     },
     "execution_count": 39,
     "metadata": {},
     "output_type": "execute_result"
    }
   ],
   "source": [
    "np.sum(a[0] - b, axis=1)"
   ]
  },
  {
   "cell_type": "code",
   "execution_count": 33,
   "metadata": {
    "collapsed": false,
    "deletable": true,
    "editable": true
   },
   "outputs": [
    {
     "data": {
      "text/plain": [
       "array([[ 3.74165739,  0.        ,  8.06225775],\n",
       "       [ 2.44948974,  2.        ,  7.14142843]])"
      ]
     },
     "execution_count": 33,
     "metadata": {},
     "output_type": "execute_result"
    }
   ],
   "source": [
    "dists"
   ]
  },
  {
   "cell_type": "code",
   "execution_count": 46,
   "metadata": {
    "collapsed": false
   },
   "outputs": [
    {
     "data": {
      "text/plain": [
       "array([[ 3.74165739,  0.        ,  8.06225775],\n",
       "       [ 2.44948974,  2.        ,  7.14142843]])"
      ]
     },
     "execution_count": 46,
     "metadata": {},
     "output_type": "execute_result"
    }
   ],
   "source": [
    "np.sqrt(np.sum(np.square(a[:,np.newaxis] - b), axis=2))"
   ]
  },
  {
   "cell_type": "code",
   "execution_count": 50,
   "metadata": {
    "collapsed": false
   },
   "outputs": [
    {
     "data": {
      "text/plain": [
       "array([[[1, 1, 1, 1]],\n",
       "\n",
       "       [[4, 4, 4, 4]]])"
      ]
     },
     "execution_count": 50,
     "metadata": {},
     "output_type": "execute_result"
    }
   ],
   "source": [
    "a_2 = np.square(a[:,np.newaxis])\n",
    "a_2"
   ]
  },
  {
   "cell_type": "code",
   "execution_count": 52,
   "metadata": {
    "collapsed": false
   },
   "outputs": [
    {
     "data": {
      "text/plain": [
       "array([[ 1,  4,  9, 16],\n",
       "       [ 1,  1,  1,  1],\n",
       "       [ 1,  4,  1, 81]])"
      ]
     },
     "execution_count": 52,
     "metadata": {},
     "output_type": "execute_result"
    }
   ],
   "source": [
    "b_2 = np.square(b)\n",
    "b_2"
   ]
  },
  {
   "cell_type": "code",
   "execution_count": 53,
   "metadata": {
    "collapsed": true
   },
   "outputs": [],
   "source": [
    "aSumSquare = np.sum(np.square(a),axis=1);\n",
    "bSumSquare = np.sum(np.square(b),axis=1);\n",
    "mul = np.dot(a,b.T);\n",
    "dists = np.sqrt(aSumSquare[:,np.newaxis]+bSumSquare-2*mul)"
   ]
  },
  {
   "cell_type": "code",
   "execution_count": 54,
   "metadata": {
    "collapsed": false
   },
   "outputs": [
    {
     "data": {
      "text/plain": [
       "array([[ 3.74165739,  0.        ,  8.06225775],\n",
       "       [ 2.44948974,  2.        ,  7.14142843]])"
      ]
     },
     "execution_count": 54,
     "metadata": {},
     "output_type": "execute_result"
    }
   ],
   "source": [
    "dists"
   ]
  },
  {
   "cell_type": "code",
   "execution_count": 75,
   "metadata": {
    "collapsed": false
   },
   "outputs": [],
   "source": [
    "a = np.random.random((3, 4, 2))"
   ]
  },
  {
   "cell_type": "code",
   "execution_count": 76,
   "metadata": {
    "collapsed": false
   },
   "outputs": [
    {
     "data": {
      "text/plain": [
       "array([[[ 0.13400624,  0.20676613],\n",
       "        [ 0.02998039,  0.16872482],\n",
       "        [ 0.05437827,  0.70727172],\n",
       "        [ 0.23844832,  0.9963003 ]],\n",
       "\n",
       "       [[ 0.81442465,  0.95770799],\n",
       "        [ 0.94712798,  0.95237076],\n",
       "        [ 0.57829651,  0.3425637 ],\n",
       "        [ 0.82092028,  0.33676638]],\n",
       "\n",
       "       [[ 0.08157554,  0.40861622],\n",
       "        [ 0.44795942,  0.90283531],\n",
       "        [ 0.30393712,  0.32319126],\n",
       "        [ 0.70431881,  0.83840788]]])"
      ]
     },
     "execution_count": 76,
     "metadata": {},
     "output_type": "execute_result"
    }
   ],
   "source": [
    "a"
   ]
  },
  {
   "cell_type": "code",
   "execution_count": 81,
   "metadata": {
    "collapsed": false
   },
   "outputs": [
    {
     "data": {
      "text/plain": [
       "array([[ 0.13400624,  0.20676613],\n",
       "       [ 0.02998039,  0.16872482],\n",
       "       [ 0.05437827,  0.70727172],\n",
       "       [ 0.23844832,  0.9963003 ],\n",
       "       [ 0.08157554,  0.40861622],\n",
       "       [ 0.44795942,  0.90283531],\n",
       "       [ 0.30393712,  0.32319126],\n",
       "       [ 0.70431881,  0.83840788]])"
      ]
     },
     "execution_count": 81,
     "metadata": {},
     "output_type": "execute_result"
    }
   ],
   "source": [
    "np.vstack((a[0,:,:], a[2,:,:]))"
   ]
  },
  {
   "cell_type": "code",
   "execution_count": null,
   "metadata": {
    "collapsed": true
   },
   "outputs": [],
   "source": []
  }
 ],
 "metadata": {
  "kernelspec": {
   "display_name": "Python 3",
   "language": "python",
   "name": "python3"
  },
  "language_info": {
   "codemirror_mode": {
    "name": "ipython",
    "version": 3
   },
   "file_extension": ".py",
   "mimetype": "text/x-python",
   "name": "python",
   "nbconvert_exporter": "python",
   "pygments_lexer": "ipython3",
   "version": "3.5.3"
  }
 },
 "nbformat": 4,
 "nbformat_minor": 2
}
