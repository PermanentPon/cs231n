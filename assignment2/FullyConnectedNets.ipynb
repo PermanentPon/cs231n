{
 "cells": [
  {
   "cell_type": "markdown",
   "metadata": {
    "deletable": true,
    "editable": true
   },
   "source": [
    "# Fully-Connected Neural Nets\n",
    "In the previous homework you implemented a fully-connected two-layer neural network on CIFAR-10. The implementation was simple but not very modular since the loss and gradient were computed in a single monolithic function. This is manageable for a simple two-layer network, but would become impractical as we move to bigger models. Ideally we want to build networks using a more modular design so that we can implement different layer types in isolation and then snap them together into models with different architectures.\n",
    "\n",
    "In this exercise we will implement fully-connected networks using a more modular approach. For each layer we will implement a `forward` and a `backward` function. The `forward` function will receive inputs, weights, and other parameters and will return both an output and a `cache` object storing data needed for the backward pass, like this:\n",
    "\n",
    "```python\n",
    "def layer_forward(x, w):\n",
    "  \"\"\" Receive inputs x and weights w \"\"\"\n",
    "  # Do some computations ...\n",
    "  z = # ... some intermediate value\n",
    "  # Do some more computations ...\n",
    "  out = # the output\n",
    "   \n",
    "  cache = (x, w, z, out) # Values we need to compute gradients\n",
    "   \n",
    "  return out, cache\n",
    "```\n",
    "\n",
    "The backward pass will receive upstream derivatives and the `cache` object, and will return gradients with respect to the inputs and weights, like this:\n",
    "\n",
    "```python\n",
    "def layer_backward(dout, cache):\n",
    "  \"\"\"\n",
    "  Receive derivative of loss with respect to outputs and cache,\n",
    "  and compute derivative with respect to inputs.\n",
    "  \"\"\"\n",
    "  # Unpack cache values\n",
    "  x, w, z, out = cache\n",
    "  \n",
    "  # Use values in cache to compute derivatives\n",
    "  dx = # Derivative of loss with respect to x\n",
    "  dw = # Derivative of loss with respect to w\n",
    "  \n",
    "  return dx, dw\n",
    "```\n",
    "\n",
    "After implementing a bunch of layers this way, we will be able to easily combine them to build classifiers with different architectures.\n",
    "\n",
    "In addition to implementing fully-connected networks of arbitrary depth, we will also explore different update rules for optimization, and introduce Dropout as a regularizer and Batch Normalization as a tool to more efficiently optimize deep networks.\n",
    "  "
   ]
  },
  {
   "cell_type": "code",
   "execution_count": 1,
   "metadata": {
    "collapsed": false,
    "deletable": true,
    "editable": true
   },
   "outputs": [],
   "source": [
    "# As usual, a bit of setup\n",
    "from __future__ import print_function\n",
    "import time\n",
    "import numpy as np\n",
    "import matplotlib.pyplot as plt\n",
    "from cs231n.classifiers.fc_net import *\n",
    "from cs231n.data_utils import get_CIFAR10_data\n",
    "from cs231n.gradient_check import eval_numerical_gradient, eval_numerical_gradient_array\n",
    "from cs231n.solver import Solver\n",
    "\n",
    "%matplotlib inline\n",
    "plt.rcParams['figure.figsize'] = (10.0, 8.0) # set default size of plots\n",
    "plt.rcParams['image.interpolation'] = 'nearest'\n",
    "plt.rcParams['image.cmap'] = 'gray'\n",
    "\n",
    "# for auto-reloading external modules\n",
    "# see http://stackoverflow.com/questions/1907993/autoreload-of-modules-in-ipython\n",
    "%load_ext autoreload\n",
    "%autoreload 2\n",
    "\n",
    "def rel_error(x, y):\n",
    "  \"\"\" returns relative error \"\"\"\n",
    "  return np.max(np.abs(x - y) / (np.maximum(1e-8, np.abs(x) + np.abs(y))))"
   ]
  },
  {
   "cell_type": "code",
   "execution_count": 3,
   "metadata": {
    "collapsed": false,
    "deletable": true,
    "editable": true
   },
   "outputs": [
    {
     "name": "stdout",
     "output_type": "stream",
     "text": [
      "('y_test: ', (1000,))\n",
      "('y_val: ', (1000,))\n",
      "('X_train: ', (49000, 3, 32, 32))\n",
      "('X_val: ', (1000, 3, 32, 32))\n",
      "('X_test: ', (1000, 3, 32, 32))\n",
      "('y_train: ', (49000,))\n"
     ]
    }
   ],
   "source": [
    "# Load the (preprocessed) CIFAR10 data.\n",
    "\n",
    "data = get_CIFAR10_data()\n",
    "for k, v in list(data.items()):\n",
    "  print(('%s: ' % k, v.shape))"
   ]
  },
  {
   "cell_type": "markdown",
   "metadata": {
    "deletable": true,
    "editable": true
   },
   "source": [
    "# Affine layer: foward\n",
    "Open the file `cs231n/layers.py` and implement the `affine_forward` function.\n",
    "\n",
    "Once you are done you can test your implementaion by running the following:"
   ]
  },
  {
   "cell_type": "code",
   "execution_count": 8,
   "metadata": {
    "collapsed": false,
    "deletable": true,
    "editable": true
   },
   "outputs": [
    {
     "name": "stdout",
     "output_type": "stream",
     "text": [
      "Testing affine_forward function:\n",
      "difference:  9.76985004799e-10\n"
     ]
    }
   ],
   "source": [
    "# Test the affine_forward function\n",
    "\n",
    "num_inputs = 2\n",
    "input_shape = (4, 5, 6)\n",
    "output_dim = 3\n",
    "\n",
    "input_size = num_inputs * np.prod(input_shape)\n",
    "weight_size = output_dim * np.prod(input_shape)\n",
    "\n",
    "x = np.linspace(-0.1, 0.5, num=input_size).reshape(num_inputs, *input_shape)\n",
    "w = np.linspace(-0.2, 0.3, num=weight_size).reshape(np.prod(input_shape), output_dim)\n",
    "b = np.linspace(-0.3, 0.1, num=output_dim)\n",
    "\n",
    "out, _ = affine_forward(x, w, b)\n",
    "correct_out = np.array([[ 1.49834967,  1.70660132,  1.91485297],\n",
    "                        [ 3.25553199,  3.5141327,   3.77273342]])\n",
    "\n",
    "# Compare your output with ours. The error should be around 1e-9.\n",
    "print('Testing affine_forward function:')\n",
    "print('difference: ', rel_error(out, correct_out))"
   ]
  },
  {
   "cell_type": "markdown",
   "metadata": {
    "deletable": true,
    "editable": true
   },
   "source": [
    "# Affine layer: backward\n",
    "Now implement the `affine_backward` function and test your implementation using numeric gradient checking."
   ]
  },
  {
   "cell_type": "code",
   "execution_count": 14,
   "metadata": {
    "collapsed": false,
    "deletable": true,
    "editable": true
   },
   "outputs": [
    {
     "name": "stdout",
     "output_type": "stream",
     "text": [
      "Testing affine_backward function:\n",
      "dx error:  6.98634850437e-11\n",
      "dw error:  9.90402358399e-11\n",
      "db error:  7.73697883449e-12\n"
     ]
    }
   ],
   "source": [
    "# Test the affine_backward function\n",
    "np.random.seed(231)\n",
    "x = np.random.randn(10, 2, 3)\n",
    "w = np.random.randn(6, 5)\n",
    "b = np.random.randn(5)\n",
    "dout = np.random.randn(10, 5)\n",
    "\n",
    "dx_num = eval_numerical_gradient_array(lambda x: affine_forward(x, w, b)[0], x, dout)\n",
    "dw_num = eval_numerical_gradient_array(lambda w: affine_forward(x, w, b)[0], w, dout)\n",
    "db_num = eval_numerical_gradient_array(lambda b: affine_forward(x, w, b)[0], b, dout)\n",
    "\n",
    "_, cache = affine_forward(x, w, b)\n",
    "dx, dw, db = affine_backward(dout, cache)\n",
    "\n",
    "# The error should be around 1e-10\n",
    "print('Testing affine_backward function:')\n",
    "print('dx error: ', rel_error(dx_num, dx))\n",
    "print('dw error: ', rel_error(dw_num, dw))\n",
    "print('db error: ', rel_error(db_num, db))"
   ]
  },
  {
   "cell_type": "markdown",
   "metadata": {
    "deletable": true,
    "editable": true
   },
   "source": [
    "# ReLU layer: forward\n",
    "Implement the forward pass for the ReLU activation function in the `relu_forward` function and test your implementation using the following:"
   ]
  },
  {
   "cell_type": "code",
   "execution_count": 15,
   "metadata": {
    "collapsed": false,
    "deletable": true,
    "editable": true
   },
   "outputs": [
    {
     "name": "stdout",
     "output_type": "stream",
     "text": [
      "Testing relu_forward function:\n",
      "difference:  4.99999979802e-08\n"
     ]
    }
   ],
   "source": [
    "# Test the relu_forward function\n",
    "\n",
    "x = np.linspace(-0.5, 0.5, num=12).reshape(3, 4)\n",
    "\n",
    "out, _ = relu_forward(x)\n",
    "correct_out = np.array([[ 0.,          0.,          0.,          0.,        ],\n",
    "                        [ 0.,          0.,          0.04545455,  0.13636364,],\n",
    "                        [ 0.22727273,  0.31818182,  0.40909091,  0.5,       ]])\n",
    "\n",
    "# Compare your output with ours. The error should be around 5e-8\n",
    "print('Testing relu_forward function:')\n",
    "print('difference: ', rel_error(out, correct_out))"
   ]
  },
  {
   "cell_type": "markdown",
   "metadata": {
    "deletable": true,
    "editable": true
   },
   "source": [
    "# ReLU layer: backward\n",
    "Now implement the backward pass for the ReLU activation function in the `relu_backward` function and test your implementation using numeric gradient checking:"
   ]
  },
  {
   "cell_type": "code",
   "execution_count": 16,
   "metadata": {
    "collapsed": false,
    "deletable": true,
    "editable": true
   },
   "outputs": [
    {
     "name": "stdout",
     "output_type": "stream",
     "text": [
      "Testing relu_backward function:\n",
      "dx error:  3.27563491363e-12\n"
     ]
    }
   ],
   "source": [
    "np.random.seed(231)\n",
    "x = np.random.randn(10, 10)\n",
    "dout = np.random.randn(*x.shape)\n",
    "\n",
    "dx_num = eval_numerical_gradient_array(lambda x: relu_forward(x)[0], x, dout)\n",
    "\n",
    "_, cache = relu_forward(x)\n",
    "dx = relu_backward(dout, cache)\n",
    "\n",
    "# The error should be around 3e-12\n",
    "print('Testing relu_backward function:')\n",
    "print('dx error: ', rel_error(dx_num, dx))"
   ]
  },
  {
   "cell_type": "markdown",
   "metadata": {
    "deletable": true,
    "editable": true
   },
   "source": [
    "# \"Sandwich\" layers\n",
    "There are some common patterns of layers that are frequently used in neural nets. For example, affine layers are frequently followed by a ReLU nonlinearity. To make these common patterns easy, we define several convenience layers in the file `cs231n/layer_utils.py`.\n",
    "\n",
    "For now take a look at the `affine_relu_forward` and `affine_relu_backward` functions, and run the following to numerically gradient check the backward pass:"
   ]
  },
  {
   "cell_type": "code",
   "execution_count": 17,
   "metadata": {
    "collapsed": false,
    "deletable": true,
    "editable": true
   },
   "outputs": [
    {
     "name": "stdout",
     "output_type": "stream",
     "text": [
      "Testing affine_relu_forward:\n",
      "dx error:  3.14347471369e-11\n",
      "dw error:  1.4861238458e-10\n",
      "db error:  7.82672402146e-12\n"
     ]
    }
   ],
   "source": [
    "from cs231n.layer_utils import affine_relu_forward, affine_relu_backward\n",
    "np.random.seed(231)\n",
    "x = np.random.randn(2, 3, 4)\n",
    "w = np.random.randn(12, 10)\n",
    "b = np.random.randn(10)\n",
    "dout = np.random.randn(2, 10)\n",
    "\n",
    "out, cache = affine_relu_forward(x, w, b)\n",
    "dx, dw, db = affine_relu_backward(dout, cache)\n",
    "\n",
    "dx_num = eval_numerical_gradient_array(lambda x: affine_relu_forward(x, w, b)[0], x, dout)\n",
    "dw_num = eval_numerical_gradient_array(lambda w: affine_relu_forward(x, w, b)[0], w, dout)\n",
    "db_num = eval_numerical_gradient_array(lambda b: affine_relu_forward(x, w, b)[0], b, dout)\n",
    "\n",
    "print('Testing affine_relu_forward:')\n",
    "print('dx error: ', rel_error(dx_num, dx))\n",
    "print('dw error: ', rel_error(dw_num, dw))\n",
    "print('db error: ', rel_error(db_num, db))"
   ]
  },
  {
   "cell_type": "markdown",
   "metadata": {
    "deletable": true,
    "editable": true
   },
   "source": [
    "# Loss layers: Softmax and SVM\n",
    "You implemented these loss functions in the last assignment, so we'll give them to you for free here. You should still make sure you understand how they work by looking at the implementations in `cs231n/layers.py`.\n",
    "\n",
    "You can make sure that the implementations are correct by running the following:"
   ]
  },
  {
   "cell_type": "code",
   "execution_count": 18,
   "metadata": {
    "collapsed": false,
    "deletable": true,
    "editable": true
   },
   "outputs": [
    {
     "name": "stdout",
     "output_type": "stream",
     "text": [
      "Testing svm_loss:\n",
      "loss:  8.9996027491\n",
      "dx error:  1.40215660067e-09\n",
      "\n",
      "Testing softmax_loss:\n",
      "loss:  2.3025458445\n",
      "dx error:  9.38467316199e-09\n"
     ]
    }
   ],
   "source": [
    "np.random.seed(231)\n",
    "num_classes, num_inputs = 10, 50\n",
    "x = 0.001 * np.random.randn(num_inputs, num_classes)\n",
    "y = np.random.randint(num_classes, size=num_inputs)\n",
    "\n",
    "dx_num = eval_numerical_gradient(lambda x: svm_loss(x, y)[0], x, verbose=False)\n",
    "loss, dx = svm_loss(x, y)\n",
    "\n",
    "# Test svm_loss function. Loss should be around 9 and dx error should be 1e-9\n",
    "print('Testing svm_loss:')\n",
    "print('loss: ', loss)\n",
    "print('dx error: ', rel_error(dx_num, dx))\n",
    "\n",
    "dx_num = eval_numerical_gradient(lambda x: softmax_loss(x, y)[0], x, verbose=False)\n",
    "loss, dx = softmax_loss(x, y)\n",
    "\n",
    "# Test softmax_loss function. Loss should be 2.3 and dx error should be 1e-8\n",
    "print('\\nTesting softmax_loss:')\n",
    "print('loss: ', loss)\n",
    "print('dx error: ', rel_error(dx_num, dx))"
   ]
  },
  {
   "cell_type": "markdown",
   "metadata": {
    "deletable": true,
    "editable": true
   },
   "source": [
    "# Two-layer network\n",
    "In the previous assignment you implemented a two-layer neural network in a single monolithic class. Now that you have implemented modular versions of the necessary layers, you will reimplement the two layer network using these modular implementations.\n",
    "\n",
    "Open the file `cs231n/classifiers/fc_net.py` and complete the implementation of the `TwoLayerNet` class. This class will serve as a model for the other networks you will implement in this assignment, so read through it to make sure you understand the API. You can run the cell below to test your implementation."
   ]
  },
  {
   "cell_type": "code",
   "execution_count": 26,
   "metadata": {
    "collapsed": false,
    "deletable": true,
    "editable": true
   },
   "outputs": [
    {
     "name": "stdout",
     "output_type": "stream",
     "text": [
      "Testing initialization ... \n",
      "Testing test-time forward pass ... \n",
      "Testing training loss (no regularization)\n",
      "Running numeric gradient check with reg =  0.0\n",
      "W1 relative error: 2.13e-08\n",
      "W2 relative error: 3.31e-10\n",
      "b1 relative error: 8.37e-09\n",
      "b2 relative error: 2.53e-10\n",
      "Running numeric gradient check with reg =  0.7\n",
      "W1 relative error: 2.53e-07\n",
      "W2 relative error: 1.37e-07\n",
      "b1 relative error: 1.56e-08\n",
      "b2 relative error: 9.09e-10\n"
     ]
    }
   ],
   "source": [
    "np.random.seed(231)\n",
    "N, D, H, C = 3, 5, 50, 7\n",
    "X = np.random.randn(N, D)\n",
    "y = np.random.randint(C, size=N)\n",
    "\n",
    "std = 1e-3\n",
    "model = TwoLayerNet(input_dim=D, hidden_dim=H, num_classes=C, weight_scale=std)\n",
    "\n",
    "print('Testing initialization ... ')\n",
    "W1_std = abs(model.params['W1'].std() - std)\n",
    "b1 = model.params['b1']\n",
    "W2_std = abs(model.params['W2'].std() - std)\n",
    "b2 = model.params['b2']\n",
    "assert W1_std < std / 10, 'First layer weights do not seem right'\n",
    "assert np.all(b1 == 0), 'First layer biases do not seem right'\n",
    "assert W2_std < std / 10, 'Second layer weights do not seem right'\n",
    "assert np.all(b2 == 0), 'Second layer biases do not seem right'\n",
    "\n",
    "print('Testing test-time forward pass ... ')\n",
    "model.params['W1'] = np.linspace(-0.7, 0.3, num=D*H).reshape(D, H)\n",
    "model.params['b1'] = np.linspace(-0.1, 0.9, num=H)\n",
    "model.params['W2'] = np.linspace(-0.3, 0.4, num=H*C).reshape(H, C)\n",
    "model.params['b2'] = np.linspace(-0.9, 0.1, num=C)\n",
    "X = np.linspace(-5.5, 4.5, num=N*D).reshape(D, N).T\n",
    "scores = model.loss(X)\n",
    "correct_scores = np.asarray(\n",
    "  [[11.53165108,  12.2917344,   13.05181771,  13.81190102,  14.57198434, 15.33206765,  16.09215096],\n",
    "   [12.05769098,  12.74614105,  13.43459113,  14.1230412,   14.81149128, 15.49994135,  16.18839143],\n",
    "   [12.58373087,  13.20054771,  13.81736455,  14.43418138,  15.05099822, 15.66781506,  16.2846319 ]])\n",
    "scores_diff = np.abs(scores - correct_scores).sum()\n",
    "assert scores_diff < 1e-6, 'Problem with test-time forward pass'\n",
    "\n",
    "print('Testing training loss (no regularization)')\n",
    "y = np.asarray([0, 5, 1])\n",
    "loss, grads = model.loss(X, y)\n",
    "correct_loss = 3.4702243556\n",
    "assert abs(loss - correct_loss) < 1e-10, 'Problem with training-time loss'\n",
    "\n",
    "model.reg = 1.0\n",
    "loss, grads = model.loss(X, y)\n",
    "correct_loss = 26.5948426952\n",
    "assert abs(loss - correct_loss) < 1e-10, 'Problem with regularization loss'\n",
    "\n",
    "for reg in [0.0, 0.7]:\n",
    "  print('Running numeric gradient check with reg = ', reg)\n",
    "  model.reg = reg\n",
    "  loss, grads = model.loss(X, y)\n",
    "\n",
    "  for name in sorted(grads):\n",
    "    f = lambda _: model.loss(X, y)[0]\n",
    "    grad_num = eval_numerical_gradient(f, model.params[name], verbose=False)\n",
    "    print('%s relative error: %.2e' % (name, rel_error(grad_num, grads[name])))"
   ]
  },
  {
   "cell_type": "markdown",
   "metadata": {
    "deletable": true,
    "editable": true
   },
   "source": [
    "# Solver\n",
    "In the previous assignment, the logic for training models was coupled to the models themselves. Following a more modular design, for this assignment we have split the logic for training models into a separate class.\n",
    "\n",
    "Open the file `cs231n/solver.py` and read through it to familiarize yourself with the API. After doing so, use a `Solver` instance to train a `TwoLayerNet` that achieves at least `50%` accuracy on the validation set."
   ]
  },
  {
   "cell_type": "code",
   "execution_count": 32,
   "metadata": {
    "collapsed": false,
    "deletable": true,
    "editable": true,
    "scrolled": true
   },
   "outputs": [
    {
     "name": "stdout",
     "output_type": "stream",
     "text": [
      "(Iteration 1 / 9800) loss: 2.301289\n",
      "(Epoch 0 / 20) train acc: 0.105000; val_acc: 0.107000\n",
      "(Iteration 101 / 9800) loss: 2.106964\n",
      "(Iteration 201 / 9800) loss: 1.927814\n",
      "(Iteration 301 / 9800) loss: 1.894066\n",
      "(Iteration 401 / 9800) loss: 1.770575\n",
      "(Epoch 1 / 20) train acc: 0.377000; val_acc: 0.387000\n",
      "(Iteration 501 / 9800) loss: 1.792096\n",
      "(Iteration 601 / 9800) loss: 1.728091\n",
      "(Iteration 701 / 9800) loss: 1.754013\n",
      "(Iteration 801 / 9800) loss: 1.671145\n",
      "(Iteration 901 / 9800) loss: 1.727376\n",
      "(Epoch 2 / 20) train acc: 0.415000; val_acc: 0.435000\n",
      "(Iteration 1001 / 9800) loss: 1.708980\n",
      "(Iteration 1101 / 9800) loss: 1.688094\n",
      "(Iteration 1201 / 9800) loss: 1.655151\n",
      "(Iteration 1301 / 9800) loss: 1.681684\n",
      "(Iteration 1401 / 9800) loss: 1.610604\n",
      "(Epoch 3 / 20) train acc: 0.486000; val_acc: 0.454000\n",
      "(Iteration 1501 / 9800) loss: 1.650215\n",
      "(Iteration 1601 / 9800) loss: 1.651864\n",
      "(Iteration 1701 / 9800) loss: 1.583195\n",
      "(Iteration 1801 / 9800) loss: 1.323383\n",
      "(Iteration 1901 / 9800) loss: 1.406341\n",
      "(Epoch 4 / 20) train acc: 0.472000; val_acc: 0.465000\n",
      "(Iteration 2001 / 9800) loss: 1.455906\n",
      "(Iteration 2101 / 9800) loss: 1.645182\n",
      "(Iteration 2201 / 9800) loss: 1.598944\n",
      "(Iteration 2301 / 9800) loss: 1.417235\n",
      "(Iteration 2401 / 9800) loss: 1.450272\n",
      "(Epoch 5 / 20) train acc: 0.508000; val_acc: 0.476000\n",
      "(Iteration 2501 / 9800) loss: 1.424817\n",
      "(Iteration 2601 / 9800) loss: 1.507095\n",
      "(Iteration 2701 / 9800) loss: 1.445117\n",
      "(Iteration 2801 / 9800) loss: 1.315844\n",
      "(Iteration 2901 / 9800) loss: 1.359386\n",
      "(Epoch 6 / 20) train acc: 0.500000; val_acc: 0.475000\n",
      "(Iteration 3001 / 9800) loss: 1.502964\n",
      "(Iteration 3101 / 9800) loss: 1.364474\n",
      "(Iteration 3201 / 9800) loss: 1.267075\n",
      "(Iteration 3301 / 9800) loss: 1.526520\n",
      "(Iteration 3401 / 9800) loss: 1.336098\n",
      "(Epoch 7 / 20) train acc: 0.531000; val_acc: 0.485000\n",
      "(Iteration 3501 / 9800) loss: 1.329521\n",
      "(Iteration 3601 / 9800) loss: 1.322130\n",
      "(Iteration 3701 / 9800) loss: 1.349051\n",
      "(Iteration 3801 / 9800) loss: 1.442038\n",
      "(Iteration 3901 / 9800) loss: 1.456371\n",
      "(Epoch 8 / 20) train acc: 0.520000; val_acc: 0.492000\n",
      "(Iteration 4001 / 9800) loss: 1.484838\n",
      "(Iteration 4101 / 9800) loss: 1.432800\n",
      "(Iteration 4201 / 9800) loss: 1.182340\n",
      "(Iteration 4301 / 9800) loss: 1.305469\n",
      "(Iteration 4401 / 9800) loss: 1.280597\n",
      "(Epoch 9 / 20) train acc: 0.560000; val_acc: 0.498000\n",
      "(Iteration 4501 / 9800) loss: 1.505981\n",
      "(Iteration 4601 / 9800) loss: 1.359792\n",
      "(Iteration 4701 / 9800) loss: 1.475887\n",
      "(Iteration 4801 / 9800) loss: 1.201285\n",
      "(Epoch 10 / 20) train acc: 0.513000; val_acc: 0.496000\n",
      "(Iteration 4901 / 9800) loss: 1.105834\n",
      "(Iteration 5001 / 9800) loss: 1.306917\n",
      "(Iteration 5101 / 9800) loss: 1.324470\n",
      "(Iteration 5201 / 9800) loss: 1.258863\n",
      "(Iteration 5301 / 9800) loss: 1.257791\n",
      "(Epoch 11 / 20) train acc: 0.552000; val_acc: 0.497000\n",
      "(Iteration 5401 / 9800) loss: 1.262336\n",
      "(Iteration 5501 / 9800) loss: 1.161633\n",
      "(Iteration 5601 / 9800) loss: 1.331614\n",
      "(Iteration 5701 / 9800) loss: 1.351240\n",
      "(Iteration 5801 / 9800) loss: 1.256319\n",
      "(Epoch 12 / 20) train acc: 0.584000; val_acc: 0.516000\n",
      "(Iteration 5901 / 9800) loss: 1.101431\n",
      "(Iteration 6001 / 9800) loss: 0.955236\n",
      "(Iteration 6101 / 9800) loss: 1.340790\n",
      "(Iteration 6201 / 9800) loss: 1.281246\n",
      "(Iteration 6301 / 9800) loss: 1.427701\n",
      "(Epoch 13 / 20) train acc: 0.547000; val_acc: 0.515000\n",
      "(Iteration 6401 / 9800) loss: 1.255485\n",
      "(Iteration 6501 / 9800) loss: 1.356314\n",
      "(Iteration 6601 / 9800) loss: 1.296540\n",
      "(Iteration 6701 / 9800) loss: 1.222438\n",
      "(Iteration 6801 / 9800) loss: 1.412850\n",
      "(Epoch 14 / 20) train acc: 0.583000; val_acc: 0.515000\n",
      "(Iteration 6901 / 9800) loss: 1.339586\n",
      "(Iteration 7001 / 9800) loss: 1.343195\n",
      "(Iteration 7101 / 9800) loss: 1.172189\n",
      "(Iteration 7201 / 9800) loss: 1.160287\n",
      "(Iteration 7301 / 9800) loss: 1.282820\n",
      "(Epoch 15 / 20) train acc: 0.604000; val_acc: 0.525000\n",
      "(Iteration 7401 / 9800) loss: 1.098554\n",
      "(Iteration 7501 / 9800) loss: 1.005032\n",
      "(Iteration 7601 / 9800) loss: 1.088000\n",
      "(Iteration 7701 / 9800) loss: 1.186482\n",
      "(Iteration 7801 / 9800) loss: 1.408401\n",
      "(Epoch 16 / 20) train acc: 0.597000; val_acc: 0.511000\n",
      "(Iteration 7901 / 9800) loss: 1.208510\n",
      "(Iteration 8001 / 9800) loss: 1.147570\n",
      "(Iteration 8101 / 9800) loss: 1.310654\n",
      "(Iteration 8201 / 9800) loss: 1.107032\n",
      "(Iteration 8301 / 9800) loss: 1.120363\n",
      "(Epoch 17 / 20) train acc: 0.577000; val_acc: 0.520000\n",
      "(Iteration 8401 / 9800) loss: 1.067376\n",
      "(Iteration 8501 / 9800) loss: 1.114031\n",
      "(Iteration 8601 / 9800) loss: 0.987663\n",
      "(Iteration 8701 / 9800) loss: 1.080230\n",
      "(Iteration 8801 / 9800) loss: 1.062562\n",
      "(Epoch 18 / 20) train acc: 0.598000; val_acc: 0.510000\n",
      "(Iteration 8901 / 9800) loss: 1.219904\n",
      "(Iteration 9001 / 9800) loss: 1.078579\n",
      "(Iteration 9101 / 9800) loss: 1.234935\n",
      "(Iteration 9201 / 9800) loss: 1.159409\n",
      "(Iteration 9301 / 9800) loss: 1.034448\n",
      "(Epoch 19 / 20) train acc: 0.633000; val_acc: 0.534000\n",
      "(Iteration 9401 / 9800) loss: 0.996890\n",
      "(Iteration 9501 / 9800) loss: 1.225900\n",
      "(Iteration 9601 / 9800) loss: 1.221941\n",
      "(Iteration 9701 / 9800) loss: 1.104496\n",
      "(Epoch 20 / 20) train acc: 0.624000; val_acc: 0.516000\n"
     ]
    }
   ],
   "source": [
    "model = TwoLayerNet()\n",
    "solver = None\n",
    "\n",
    "##############################################################################\n",
    "# TODO: Use a Solver instance to train a TwoLayerNet that achieves at least  #\n",
    "# 50% accuracy on the validation set.                                        #\n",
    "##############################################################################\n",
    "num_train = 50\n",
    "data = {\n",
    "  'X_train': data['X_train'],\n",
    "  'y_train': data['y_train'],\n",
    "  'X_val': data['X_val'],\n",
    "  'y_val': data['y_val'],\n",
    "}\n",
    "\n",
    "learning_rate = 2e-4\n",
    "solver = Solver(model, data,\n",
    "                print_every = 100, num_epochs=20, batch_size=100,\n",
    "                update_rule='sgd',\n",
    "                optim_config={\n",
    "                  'learning_rate': learning_rate,\n",
    "                })\n",
    "solver.train()\n",
    "##############################################################################\n",
    "#                             END OF YOUR CODE                               #\n",
    "##############################################################################"
   ]
  },
  {
   "cell_type": "code",
   "execution_count": 33,
   "metadata": {
    "collapsed": false,
    "deletable": true,
    "editable": true
   },
   "outputs": [
    {
     "data": {
      "text/plain": [
       "<matplotlib.axes._subplots.AxesSubplot at 0x1114fb8d0>"
      ]
     },
     "execution_count": 33,
     "metadata": {},
     "output_type": "execute_result"
    },
    {
     "data": {
      "text/plain": [
       "<matplotlib.text.Text at 0x11157cbe0>"
      ]
     },
     "execution_count": 33,
     "metadata": {},
     "output_type": "execute_result"
    },
    {
     "data": {
      "text/plain": [
       "[<matplotlib.lines.Line2D at 0x1114e59b0>]"
      ]
     },
     "execution_count": 33,
     "metadata": {},
     "output_type": "execute_result"
    },
    {
     "data": {
      "text/plain": [
       "<matplotlib.text.Text at 0x111535cf8>"
      ]
     },
     "execution_count": 33,
     "metadata": {},
     "output_type": "execute_result"
    },
    {
     "data": {
      "text/plain": [
       "<matplotlib.axes._subplots.AxesSubplot at 0x111808cc0>"
      ]
     },
     "execution_count": 33,
     "metadata": {},
     "output_type": "execute_result"
    },
    {
     "data": {
      "text/plain": [
       "<matplotlib.text.Text at 0x11183d160>"
      ]
     },
     "execution_count": 33,
     "metadata": {},
     "output_type": "execute_result"
    },
    {
     "data": {
      "text/plain": [
       "[<matplotlib.lines.Line2D at 0x111843940>]"
      ]
     },
     "execution_count": 33,
     "metadata": {},
     "output_type": "execute_result"
    },
    {
     "data": {
      "text/plain": [
       "[<matplotlib.lines.Line2D at 0x1118438d0>]"
      ]
     },
     "execution_count": 33,
     "metadata": {},
     "output_type": "execute_result"
    },
    {
     "data": {
      "text/plain": [
       "[<matplotlib.lines.Line2D at 0x111843a90>]"
      ]
     },
     "execution_count": 33,
     "metadata": {},
     "output_type": "execute_result"
    },
    {
     "data": {
      "text/plain": [
       "<matplotlib.text.Text at 0x111814550>"
      ]
     },
     "execution_count": 33,
     "metadata": {},
     "output_type": "execute_result"
    },
    {
     "data": {
      "text/plain": [
       "<matplotlib.legend.Legend at 0x11184df28>"
      ]
     },
     "execution_count": 33,
     "metadata": {},
     "output_type": "execute_result"
    },
    {
     "data": {
      "image/png": "[encoded data removed]",
      "text/plain": [
       "<matplotlib.figure.Figure at 0x11151b320>"
      ]
     },
     "metadata": {},
     "output_type": "display_data"
    }
   ],
   "source": [
    "# Run this cell to visualize training loss and train / val accuracy\n",
    "\n",
    "plt.subplot(2, 1, 1)\n",
    "plt.title('Training loss')\n",
    "plt.plot(solver.loss_history, 'o')\n",
    "plt.xlabel('Iteration')\n",
    "\n",
    "plt.subplot(2, 1, 2)\n",
    "plt.title('Accuracy')\n",
    "plt.plot(solver.train_acc_history, '-o', label='train')\n",
    "plt.plot(solver.val_acc_history, '-o', label='val')\n",
    "plt.plot([0.5] * len(solver.val_acc_history), 'k--')\n",
    "plt.xlabel('Epoch')\n",
    "plt.legend(loc='lower right')\n",
    "plt.gcf().set_size_inches(15, 12)\n",
    "plt.show()"
   ]
  },
  {
   "cell_type": "markdown",
   "metadata": {
    "deletable": true,
    "editable": true
   },
   "source": [
    "# Multilayer network\n",
    "Next you will implement a fully-connected network with an arbitrary number of hidden layers.\n",
    "\n",
    "Read through the `FullyConnectedNet` class in the file `cs231n/classifiers/fc_net.py`.\n",
    "\n",
    "Implement the initialization, the forward pass, and the backward pass. For the moment don't worry about implementing dropout or batch normalization; we will add those features soon."
   ]
  },
  {
   "cell_type": "markdown",
   "metadata": {
    "deletable": true,
    "editable": true
   },
   "source": [
    "## Initial loss and gradient check"
   ]
  },
  {
   "cell_type": "markdown",
   "metadata": {
    "deletable": true,
    "editable": true
   },
   "source": [
    "As a sanity check, run the following to check the initial loss and to gradient check the network both with and without regularization. Do the initial losses seem reasonable?\n",
    "\n",
    "For gradient checking, you should expect to see errors around 1e-6 or less."
   ]
  },
  {
   "cell_type": "code",
   "execution_count": 69,
   "metadata": {
    "collapsed": false,
    "deletable": true,
    "editable": true
   },
   "outputs": [
    {
     "name": "stdout",
     "output_type": "stream",
     "text": [
      "Running check with reg =  0\n",
      "Initial loss:  2.30047908977\n",
      "W1 relative error: 1.48e-07\n",
      "W2 relative error: 2.21e-05\n",
      "W3 relative error: 3.53e-07\n",
      "b1 relative error: 5.38e-09\n",
      "b2 relative error: 2.09e-09\n",
      "b3 relative error: 5.80e-11\n",
      "Running check with reg =  3.14\n",
      "Initial loss:  7.05211477653\n",
      "W1 relative error: 3.90e-09\n",
      "W2 relative error: 6.87e-08\n",
      "W3 relative error: 2.13e-08\n",
      "b1 relative error: 1.48e-08\n",
      "b2 relative error: 1.72e-09\n",
      "b3 relative error: 1.57e-10\n"
     ]
    }
   ],
   "source": [
    "np.random.seed(231)\n",
    "N, D, H1, H2, C = 2, 15, 20, 30, 10\n",
    "X = np.random.randn(N, D)\n",
    "y = np.random.randint(C, size=(N,))\n",
    "\n",
    "for reg in [0, 3.14]:\n",
    "  print('Running check with reg = ', reg)\n",
    "  model = FullyConnectedNet([H1, H2], input_dim=D, num_classes=C,\n",
    "                            reg=reg, weight_scale=5e-2, dtype=np.float64)\n",
    "\n",
    "  loss, grads = model.loss(X, y)\n",
    "  print('Initial loss: ', loss)\n",
    "\n",
    "  for name in sorted(grads):\n",
    "    f = lambda _: model.loss(X, y)[0]\n",
    "    grad_num = eval_numerical_gradient(f, model.params[name], verbose=False, h=1e-5)\n",
    "    print('%s relative error: %.2e' % (name, rel_error(grad_num, grads[name])))"
   ]
  },
  {
   "cell_type": "markdown",
   "metadata": {
    "deletable": true,
    "editable": true
   },
   "source": [
    "As another sanity check, make sure you can overfit a small dataset of 50 images. First we will try a three-layer network with 100 units in each hidden layer. You will need to tweak the learning rate and initialization scale, but you should be able to overfit and achieve 100% training accuracy within 20 epochs."
   ]
  },
  {
   "cell_type": "code",
   "execution_count": 76,
   "metadata": {
    "collapsed": false,
    "deletable": true,
    "editable": true,
    "scrolled": false
   },
   "outputs": [
    {
     "name": "stdout",
     "output_type": "stream",
     "text": [
      "(Iteration 1 / 40) loss: 228.468533\n",
      "(Epoch 0 / 20) train acc: 0.280000; val_acc: 0.116000\n",
      "(Epoch 1 / 20) train acc: 0.260000; val_acc: 0.100000\n",
      "(Epoch 2 / 20) train acc: 0.400000; val_acc: 0.112000\n",
      "(Epoch 3 / 20) train acc: 0.560000; val_acc: 0.105000\n",
      "(Epoch 4 / 20) train acc: 0.660000; val_acc: 0.115000\n",
      "(Epoch 5 / 20) train acc: 0.840000; val_acc: 0.112000\n",
      "(Iteration 11 / 40) loss: 26.801823\n",
      "(Epoch 6 / 20) train acc: 0.840000; val_acc: 0.115000\n",
      "(Epoch 7 / 20) train acc: 0.920000; val_acc: 0.133000\n",
      "(Epoch 8 / 20) train acc: 0.960000; val_acc: 0.124000\n",
      "(Epoch 9 / 20) train acc: 0.980000; val_acc: 0.128000\n",
      "(Epoch 10 / 20) train acc: 0.980000; val_acc: 0.128000\n",
      "(Iteration 21 / 40) loss: 0.015347\n",
      "(Epoch 11 / 20) train acc: 0.980000; val_acc: 0.120000\n",
      "(Epoch 12 / 20) train acc: 1.000000; val_acc: 0.123000\n",
      "(Epoch 13 / 20) train acc: 1.000000; val_acc: 0.123000\n",
      "(Epoch 14 / 20) train acc: 1.000000; val_acc: 0.123000\n",
      "(Epoch 15 / 20) train acc: 1.000000; val_acc: 0.123000\n",
      "(Iteration 31 / 40) loss: 0.000005\n",
      "(Epoch 16 / 20) train acc: 1.000000; val_acc: 0.123000\n",
      "(Epoch 17 / 20) train acc: 1.000000; val_acc: 0.123000\n",
      "(Epoch 18 / 20) train acc: 1.000000; val_acc: 0.123000\n",
      "(Epoch 19 / 20) train acc: 1.000000; val_acc: 0.123000\n",
      "(Epoch 20 / 20) train acc: 1.000000; val_acc: 0.123000\n"
     ]
    },
    {
     "data": {
      "text/plain": [
       "[<matplotlib.lines.Line2D at 0x1125ff8d0>]"
      ]
     },
     "execution_count": 76,
     "metadata": {},
     "output_type": "execute_result"
    },
    {
     "data": {
      "text/plain": [
       "<matplotlib.text.Text at 0x1124ae320>"
      ]
     },
     "execution_count": 76,
     "metadata": {},
     "output_type": "execute_result"
    },
    {
     "data": {
      "text/plain": [
       "<matplotlib.text.Text at 0x1123a2358>"
      ]
     },
     "execution_count": 76,
     "metadata": {},
     "output_type": "execute_result"
    },
    {
     "data": {
      "text/plain": [
       "<matplotlib.text.Text at 0x11247b400>"
      ]
     },
     "execution_count": 76,
     "metadata": {},
     "output_type": "execute_result"
    },
    {
     "data": {
      "image/png": "[encoded data removed]",
      "text/plain": [
       "<matplotlib.figure.Figure at 0x1123ef898>"
      ]
     },
     "metadata": {},
     "output_type": "display_data"
    }
   ],
   "source": [
    "# TODO: Use a three-layer Net to overfit 50 training examples.\n",
    "\n",
    "num_train = 50\n",
    "small_data = {\n",
    "  'X_train': data['X_train'][:num_train],\n",
    "  'y_train': data['y_train'][:num_train],\n",
    "  'X_val': data['X_val'],\n",
    "  'y_val': data['y_val'],\n",
    "}\n",
    "\n",
    "weight_scale = 1e-1\n",
    "learning_rate = 2e-4\n",
    "model = FullyConnectedNet([100, 100],\n",
    "              weight_scale=weight_scale, dtype=np.float64)\n",
    "solver = Solver(model, small_data,\n",
    "                print_every=10, num_epochs=20, batch_size=25,\n",
    "                update_rule='sgd',\n",
    "                optim_config={\n",
    "                  'learning_rate': learning_rate,\n",
    "                }\n",
    "         )\n",
    "solver.train()\n",
    "\n",
    "plt.plot(solver.loss_history, 'o')\n",
    "plt.title('Training loss history')\n",
    "plt.xlabel('Iteration')\n",
    "plt.ylabel('Training loss')\n",
    "plt.show()"
   ]
  },
  {
   "cell_type": "markdown",
   "metadata": {
    "deletable": true,
    "editable": true
   },
   "source": [
    "Now try to use a five-layer network with 100 units on each layer to overfit 50 training examples. Again you will have to adjust the learning rate and weight initialization, but you should be able to achieve 100% training accuracy within 20 epochs."
   ]
  },
  {
   "cell_type": "code",
   "execution_count": 84,
   "metadata": {
    "collapsed": false,
    "deletable": true,
    "editable": true
   },
   "outputs": [
    {
     "name": "stdout",
     "output_type": "stream",
     "text": [
      "(Iteration 1 / 40) loss: 196.391653\n",
      "(Epoch 0 / 20) train acc: 0.100000; val_acc: 0.099000\n",
      "(Epoch 1 / 20) train acc: 0.100000; val_acc: 0.114000\n",
      "(Epoch 2 / 20) train acc: 0.280000; val_acc: 0.108000\n",
      "(Epoch 3 / 20) train acc: 0.380000; val_acc: 0.106000\n",
      "(Epoch 4 / 20) train acc: 0.580000; val_acc: 0.114000\n",
      "(Epoch 5 / 20) train acc: 0.720000; val_acc: 0.114000\n",
      "(Iteration 11 / 40) loss: 9.279606\n",
      "(Epoch 6 / 20) train acc: 0.620000; val_acc: 0.123000\n",
      "(Epoch 7 / 20) train acc: 0.740000; val_acc: 0.112000\n",
      "(Epoch 8 / 20) train acc: 0.880000; val_acc: 0.117000\n",
      "(Epoch 9 / 20) train acc: 0.860000; val_acc: 0.122000\n",
      "(Epoch 10 / 20) train acc: 0.920000; val_acc: 0.125000\n",
      "(Iteration 21 / 40) loss: 0.013823\n",
      "(Epoch 11 / 20) train acc: 0.940000; val_acc: 0.122000\n",
      "(Epoch 12 / 20) train acc: 0.920000; val_acc: 0.119000\n",
      "(Epoch 13 / 20) train acc: 0.980000; val_acc: 0.123000\n",
      "(Epoch 14 / 20) train acc: 0.860000; val_acc: 0.120000\n",
      "(Epoch 15 / 20) train acc: 0.980000; val_acc: 0.126000\n",
      "(Iteration 31 / 40) loss: 0.000536\n",
      "(Epoch 16 / 20) train acc: 0.980000; val_acc: 0.126000\n",
      "(Epoch 17 / 20) train acc: 1.000000; val_acc: 0.123000\n",
      "(Epoch 18 / 20) train acc: 1.000000; val_acc: 0.121000\n",
      "(Epoch 19 / 20) train acc: 1.000000; val_acc: 0.121000\n",
      "(Epoch 20 / 20) train acc: 1.000000; val_acc: 0.121000\n"
     ]
    },
    {
     "data": {
      "text/plain": [
       "[<matplotlib.lines.Line2D at 0x112db0438>]"
      ]
     },
     "execution_count": 84,
     "metadata": {},
     "output_type": "execute_result"
    },
    {
     "data": {
      "text/plain": [
       "<matplotlib.text.Text at 0x112d89e48>"
      ]
     },
     "execution_count": 84,
     "metadata": {},
     "output_type": "execute_result"
    },
    {
     "data": {
      "text/plain": [
       "<matplotlib.text.Text at 0x112d4f588>"
      ]
     },
     "execution_count": 84,
     "metadata": {},
     "output_type": "execute_result"
    },
    {
     "data": {
      "text/plain": [
       "<matplotlib.text.Text at 0x112c6deb8>"
      ]
     },
     "execution_count": 84,
     "metadata": {},
     "output_type": "execute_result"
    },
    {
     "data": {
      "image/png": "[encoded data removed]",
      "text/plain": [
       "<matplotlib.figure.Figure at 0x112c30ef0>"
      ]
     },
     "metadata": {},
     "output_type": "display_data"
    }
   ],
   "source": [
    "# TODO: Use a five-layer Net to overfit 50 training examples.\n",
    "\n",
    "num_train = 50\n",
    "small_data = {\n",
    "  'X_train': data['X_train'][:num_train],\n",
    "  'y_train': data['y_train'][:num_train],\n",
    "  'X_val': data['X_val'],\n",
    "  'y_val': data['y_val'],\n",
    "}\n",
    "\n",
    "learning_rate = 2e-4\n",
    "weight_scale = 1e-1\n",
    "model = FullyConnectedNet([100, 100, 100, 100],\n",
    "                weight_scale=weight_scale, dtype=np.float64)\n",
    "solver = Solver(model, small_data,\n",
    "                print_every=10, num_epochs=20, batch_size=25,\n",
    "                update_rule='sgd',\n",
    "                optim_config={\n",
    "                  'learning_rate': learning_rate,\n",
    "                }\n",
    "         )\n",
    "solver.train()\n",
    "\n",
    "plt.plot(solver.loss_history, 'o')\n",
    "plt.title('Training loss history')\n",
    "plt.xlabel('Iteration')\n",
    "plt.ylabel('Training loss')\n",
    "plt.show()"
   ]
  },
  {
   "cell_type": "markdown",
   "metadata": {
    "deletable": true,
    "editable": true
   },
   "source": [
    "# Inline question: \n",
    "Did you notice anything about the comparative difficulty of training the three-layer net vs training the five layer net?\n",
    "\n",
    "# Answer:\n",
    "Five-layer net converges slower than three-layer net\n"
   ]
  },
  {
   "cell_type": "markdown",
   "metadata": {
    "deletable": true,
    "editable": true
   },
   "source": [
    "# Update rules\n",
    "So far we have used vanilla stochastic gradient descent (SGD) as our update rule. More sophisticated update rules can make it easier to train deep networks. We will implement a few of the most commonly used update rules and compare them to vanilla SGD."
   ]
  },
  {
   "cell_type": "markdown",
   "metadata": {
    "deletable": true,
    "editable": true
   },
   "source": [
    "# SGD+Momentum\n",
    "Stochastic gradient descent with momentum is a widely used update rule that tends to make deep networks converge faster than vanilla stochstic gradient descent.\n",
    "\n",
    "Open the file `cs231n/optim.py` and read the documentation at the top of the file to make sure you understand the API. Implement the SGD+momentum update rule in the function `sgd_momentum` and run the following to check your implementation. You should see errors less than 1e-8."
   ]
  },
  {
   "cell_type": "code",
   "execution_count": 87,
   "metadata": {
    "collapsed": false,
    "deletable": true,
    "editable": true
   },
   "outputs": [
    {
     "name": "stdout",
     "output_type": "stream",
     "text": [
      "next_w error:  8.88234703351e-09\n",
      "velocity error:  4.26928774328e-09\n"
     ]
    }
   ],
   "source": [
    "from cs231n.optim import sgd_momentum\n",
    "\n",
    "N, D = 4, 5\n",
    "w = np.linspace(-0.4, 0.6, num=N*D).reshape(N, D)\n",
    "dw = np.linspace(-0.6, 0.4, num=N*D).reshape(N, D)\n",
    "v = np.linspace(0.6, 0.9, num=N*D).reshape(N, D)\n",
    "\n",
    "config = {'learning_rate': 1e-3, 'velocity': v}\n",
    "next_w, _ = sgd_momentum(w, dw, config=config)\n",
    "\n",
    "expected_next_w = np.asarray([\n",
    "  [ 0.1406,      0.20738947,  0.27417895,  0.34096842,  0.40775789],\n",
    "  [ 0.47454737,  0.54133684,  0.60812632,  0.67491579,  0.74170526],\n",
    "  [ 0.80849474,  0.87528421,  0.94207368,  1.00886316,  1.07565263],\n",
    "  [ 1.14244211,  1.20923158,  1.27602105,  1.34281053,  1.4096    ]])\n",
    "expected_velocity = np.asarray([\n",
    "  [ 0.5406,      0.55475789,  0.56891579, 0.58307368,  0.59723158],\n",
    "  [ 0.61138947,  0.62554737,  0.63970526,  0.65386316,  0.66802105],\n",
    "  [ 0.68217895,  0.69633684,  0.71049474,  0.72465263,  0.73881053],\n",
    "  [ 0.75296842,  0.76712632,  0.78128421,  0.79544211,  0.8096    ]])\n",
    "\n",
    "print('next_w error: ', rel_error(next_w, expected_next_w))\n",
    "print('velocity error: ', rel_error(expected_velocity, config['velocity']))"
   ]
  },
  {
   "cell_type": "markdown",
   "metadata": {
    "deletable": true,
    "editable": true
   },
   "source": [
    "Once you have done so, run the following to train a six-layer network with both SGD and SGD+momentum. You should see the SGD+momentum update rule converge faster."
   ]
  },
  {
   "cell_type": "code",
   "execution_count": 88,
   "metadata": {
    "collapsed": false,
    "deletable": true,
    "editable": true,
    "scrolled": true
   },
   "outputs": [
    {
     "name": "stdout",
     "output_type": "stream",
     "text": [
      "running with  sgd\n",
      "(Iteration 1 / 200) loss: 2.819925\n",
      "(Epoch 0 / 5) train acc: 0.113000; val_acc: 0.121000\n",
      "(Iteration 11 / 200) loss: 2.177796\n",
      "(Iteration 21 / 200) loss: 1.985580\n",
      "(Iteration 31 / 200) loss: 1.936511\n",
      "(Epoch 1 / 5) train acc: 0.263000; val_acc: 0.243000\n",
      "(Iteration 41 / 200) loss: 1.954406\n",
      "(Iteration 51 / 200) loss: 1.986709\n",
      "(Iteration 61 / 200) loss: 2.003124\n",
      "(Iteration 71 / 200) loss: 1.906022\n",
      "(Epoch 2 / 5) train acc: 0.323000; val_acc: 0.285000\n",
      "(Iteration 81 / 200) loss: 1.886545\n",
      "(Iteration 91 / 200) loss: 1.759392\n",
      "(Iteration 101 / 200) loss: 1.837020\n",
      "(Iteration 111 / 200) loss: 1.629837\n",
      "(Epoch 3 / 5) train acc: 0.336000; val_acc: 0.291000\n",
      "(Iteration 121 / 200) loss: 1.849372\n",
      "(Iteration 131 / 200) loss: 1.665275\n",
      "(Iteration 141 / 200) loss: 1.808226\n",
      "(Iteration 151 / 200) loss: 1.661136\n",
      "(Epoch 4 / 5) train acc: 0.408000; val_acc: 0.309000\n",
      "(Iteration 161 / 200) loss: 1.872077\n",
      "(Iteration 171 / 200) loss: 1.652984\n",
      "(Iteration 181 / 200) loss: 1.516608\n",
      "(Iteration 191 / 200) loss: 1.798480\n",
      "(Epoch 5 / 5) train acc: 0.437000; val_acc: 0.340000\n",
      "\n",
      "running with  sgd_momentum\n",
      "(Iteration 1 / 200) loss: 2.681357\n",
      "(Epoch 0 / 5) train acc: 0.108000; val_acc: 0.097000\n",
      "(Iteration 11 / 200) loss: 2.027495\n",
      "(Iteration 21 / 200) loss: 2.086523\n",
      "(Iteration 31 / 200) loss: 1.962743\n",
      "(Epoch 1 / 5) train acc: 0.314000; val_acc: 0.279000\n",
      "(Iteration 41 / 200) loss: 2.003555\n",
      "(Iteration 51 / 200) loss: 1.868895\n",
      "(Iteration 61 / 200) loss: 1.776738\n",
      "(Iteration 71 / 200) loss: 1.621507\n",
      "(Epoch 2 / 5) train acc: 0.396000; val_acc: 0.316000\n",
      "(Iteration 81 / 200) loss: 1.763987\n",
      "(Iteration 91 / 200) loss: 1.523970\n",
      "(Iteration 101 / 200) loss: 1.653780\n",
      "(Iteration 111 / 200) loss: 1.421744\n",
      "(Epoch 3 / 5) train acc: 0.428000; val_acc: 0.309000\n",
      "(Iteration 121 / 200) loss: 1.609898\n",
      "(Iteration 131 / 200) loss: 1.530813\n",
      "(Iteration 141 / 200) loss: 1.339121\n",
      "(Iteration 151 / 200) loss: 1.423510\n",
      "(Epoch 4 / 5) train acc: 0.519000; val_acc: 0.362000\n",
      "(Iteration 161 / 200) loss: 1.411485\n",
      "(Iteration 171 / 200) loss: 1.677397\n",
      "(Iteration 181 / 200) loss: 1.318354\n",
      "(Iteration 191 / 200) loss: 1.297138\n",
      "(Epoch 5 / 5) train acc: 0.519000; val_acc: 0.341000\n",
      "\n"
     ]
    },
    {
     "data": {
      "text/plain": [
       "<matplotlib.axes._subplots.AxesSubplot at 0x112dc7f60>"
      ]
     },
     "execution_count": 88,
     "metadata": {},
     "output_type": "execute_result"
    },
    {
     "data": {
      "text/plain": [
       "<matplotlib.text.Text at 0x114d20c18>"
      ]
     },
     "execution_count": 88,
     "metadata": {},
     "output_type": "execute_result"
    },
    {
     "data": {
      "text/plain": [
       "<matplotlib.text.Text at 0x112db8048>"
      ]
     },
     "execution_count": 88,
     "metadata": {},
     "output_type": "execute_result"
    },
    {
     "data": {
      "text/plain": [
       "<matplotlib.axes._subplots.AxesSubplot at 0x112d77cf8>"
      ]
     },
     "execution_count": 88,
     "metadata": {},
     "output_type": "execute_result"
    },
    {
     "data": {
      "text/plain": [
       "<matplotlib.text.Text at 0x115abb668>"
      ]
     },
     "execution_count": 88,
     "metadata": {},
     "output_type": "execute_result"
    },
    {
     "data": {
      "text/plain": [
       "<matplotlib.text.Text at 0x115ab4a58>"
      ]
     },
     "execution_count": 88,
     "metadata": {},
     "output_type": "execute_result"
    },
    {
     "data": {
      "text/plain": [
       "<matplotlib.axes._subplots.AxesSubplot at 0x115aeee80>"
      ]
     },
     "execution_count": 88,
     "metadata": {},
     "output_type": "execute_result"
    },
    {
     "data": {
      "text/plain": [
       "<matplotlib.text.Text at 0x114dd01d0>"
      ]
     },
     "execution_count": 88,
     "metadata": {},
     "output_type": "execute_result"
    },
    {
     "data": {
      "text/plain": [
       "<matplotlib.text.Text at 0x114d9f5c0>"
      ]
     },
     "execution_count": 88,
     "metadata": {},
     "output_type": "execute_result"
    },
    {
     "data": {
      "text/plain": [
       "<matplotlib.axes._subplots.AxesSubplot at 0x112dc7f60>"
      ]
     },
     "execution_count": 88,
     "metadata": {},
     "output_type": "execute_result"
    },
    {
     "data": {
      "text/plain": [
       "[<matplotlib.lines.Line2D at 0x11136e908>]"
      ]
     },
     "execution_count": 88,
     "metadata": {},
     "output_type": "execute_result"
    },
    {
     "data": {
      "text/plain": [
       "<matplotlib.axes._subplots.AxesSubplot at 0x112d77cf8>"
      ]
     },
     "execution_count": 88,
     "metadata": {},
     "output_type": "execute_result"
    },
    {
     "data": {
      "text/plain": [
       "[<matplotlib.lines.Line2D at 0x1113753c8>]"
      ]
     },
     "execution_count": 88,
     "metadata": {},
     "output_type": "execute_result"
    },
    {
     "data": {
      "text/plain": [
       "<matplotlib.axes._subplots.AxesSubplot at 0x115aeee80>"
      ]
     },
     "execution_count": 88,
     "metadata": {},
     "output_type": "execute_result"
    },
    {
     "data": {
      "text/plain": [
       "[<matplotlib.lines.Line2D at 0x111375f28>]"
      ]
     },
     "execution_count": 88,
     "metadata": {},
     "output_type": "execute_result"
    },
    {
     "data": {
      "text/plain": [
       "<matplotlib.axes._subplots.AxesSubplot at 0x112dc7f60>"
      ]
     },
     "execution_count": 88,
     "metadata": {},
     "output_type": "execute_result"
    },
    {
     "data": {
      "text/plain": [
       "[<matplotlib.lines.Line2D at 0x114dc22b0>]"
      ]
     },
     "execution_count": 88,
     "metadata": {},
     "output_type": "execute_result"
    },
    {
     "data": {
      "text/plain": [
       "<matplotlib.axes._subplots.AxesSubplot at 0x112d77cf8>"
      ]
     },
     "execution_count": 88,
     "metadata": {},
     "output_type": "execute_result"
    },
    {
     "data": {
      "text/plain": [
       "[<matplotlib.lines.Line2D at 0x114dbd9e8>]"
      ]
     },
     "execution_count": 88,
     "metadata": {},
     "output_type": "execute_result"
    },
    {
     "data": {
      "text/plain": [
       "<matplotlib.axes._subplots.AxesSubplot at 0x115aeee80>"
      ]
     },
     "execution_count": 88,
     "metadata": {},
     "output_type": "execute_result"
    },
    {
     "data": {
      "text/plain": [
       "[<matplotlib.lines.Line2D at 0x111375f98>]"
      ]
     },
     "execution_count": 88,
     "metadata": {},
     "output_type": "execute_result"
    },
    {
     "data": {
      "text/plain": [
       "<matplotlib.axes._subplots.AxesSubplot at 0x112dc7f60>"
      ]
     },
     "execution_count": 88,
     "metadata": {},
     "output_type": "execute_result"
    },
    {
     "data": {
      "text/plain": [
       "<matplotlib.legend.Legend at 0x114db2748>"
      ]
     },
     "execution_count": 88,
     "metadata": {},
     "output_type": "execute_result"
    },
    {
     "data": {
      "text/plain": [
       "<matplotlib.axes._subplots.AxesSubplot at 0x112d77cf8>"
      ]
     },
     "execution_count": 88,
     "metadata": {},
     "output_type": "execute_result"
    },
    {
     "data": {
      "text/plain": [
       "<matplotlib.legend.Legend at 0x111385eb8>"
      ]
     },
     "execution_count": 88,
     "metadata": {},
     "output_type": "execute_result"
    },
    {
     "data": {
      "text/plain": [
       "<matplotlib.axes._subplots.AxesSubplot at 0x115aeee80>"
      ]
     },
     "execution_count": 88,
     "metadata": {},
     "output_type": "execute_result"
    },
    {
     "data": {
      "text/plain": [
       "<matplotlib.legend.Legend at 0x111377be0>"
      ]
     },
     "execution_count": 88,
     "metadata": {},
     "output_type": "execute_result"
    },
    {
     "data": {
      "image/png": "[encoded data removed]",
      "text/plain": [
       "<matplotlib.figure.Figure at 0x112e5bcc0>"
      ]
     },
     "metadata": {},
     "output_type": "display_data"
    }
   ],
   "source": [
    "num_train = 4000\n",
    "small_data = {\n",
    "  'X_train': data['X_train'][:num_train],\n",
    "  'y_train': data['y_train'][:num_train],\n",
    "  'X_val': data['X_val'],\n",
    "  'y_val': data['y_val'],\n",
    "}\n",
    "\n",
    "solvers = {}\n",
    "\n",
    "for update_rule in ['sgd', 'sgd_momentum']:\n",
    "  print('running with ', update_rule)\n",
    "  model = FullyConnectedNet([100, 100, 100, 100, 100], weight_scale=5e-2)\n",
    "\n",
    "  solver = Solver(model, small_data,\n",
    "                  num_epochs=5, batch_size=100,\n",
    "                  update_rule=update_rule,\n",
    "                  optim_config={\n",
    "                    'learning_rate': 1e-2,\n",
    "                  },\n",
    "                  verbose=True)\n",
    "  solvers[update_rule] = solver\n",
    "  solver.train()\n",
    "  print()\n",
    "\n",
    "plt.subplot(3, 1, 1)\n",
    "plt.title('Training loss')\n",
    "plt.xlabel('Iteration')\n",
    "\n",
    "plt.subplot(3, 1, 2)\n",
    "plt.title('Training accuracy')\n",
    "plt.xlabel('Epoch')\n",
    "\n",
    "plt.subplot(3, 1, 3)\n",
    "plt.title('Validation accuracy')\n",
    "plt.xlabel('Epoch')\n",
    "\n",
    "for update_rule, solver in list(solvers.items()):\n",
    "  plt.subplot(3, 1, 1)\n",
    "  plt.plot(solver.loss_history, 'o', label=update_rule)\n",
    "  \n",
    "  plt.subplot(3, 1, 2)\n",
    "  plt.plot(solver.train_acc_history, '-o', label=update_rule)\n",
    "\n",
    "  plt.subplot(3, 1, 3)\n",
    "  plt.plot(solver.val_acc_history, '-o', label=update_rule)\n",
    "  \n",
    "for i in [1, 2, 3]:\n",
    "  plt.subplot(3, 1, i)\n",
    "  plt.legend(loc='upper center', ncol=4)\n",
    "plt.gcf().set_size_inches(15, 15)\n",
    "plt.show()"
   ]
  },
  {
   "cell_type": "markdown",
   "metadata": {
    "deletable": true,
    "editable": true
   },
   "source": [
    "# RMSProp and Adam\n",
    "RMSProp [1] and Adam [2] are update rules that set per-parameter learning rates by using a running average of the second moments of gradients.\n",
    "\n",
    "In the file `cs231n/optim.py`, implement the RMSProp update rule in the `rmsprop` function and implement the Adam update rule in the `adam` function, and check your implementations using the tests below.\n",
    "\n",
    "[1] Tijmen Tieleman and Geoffrey Hinton. \"Lecture 6.5-rmsprop: Divide the gradient by a running average of its recent magnitude.\" COURSERA: Neural Networks for Machine Learning 4 (2012).\n",
    "\n",
    "[2] Diederik Kingma and Jimmy Ba, \"Adam: A Method for Stochastic Optimization\", ICLR 2015."
   ]
  },
  {
   "cell_type": "code",
   "execution_count": 97,
   "metadata": {
    "collapsed": false,
    "deletable": true,
    "editable": true
   },
   "outputs": [
    {
     "name": "stdout",
     "output_type": "stream",
     "text": [
      "next_w error:  9.52468751104e-08\n",
      "cache error:  2.64779558072e-09\n"
     ]
    }
   ],
   "source": [
    "# Test RMSProp implementation; you should see errors less than 1e-7\n",
    "from cs231n.optim import rmsprop\n",
    "\n",
    "N, D = 4, 5\n",
    "w = np.linspace(-0.4, 0.6, num=N*D).reshape(N, D)\n",
    "dw = np.linspace(-0.6, 0.4, num=N*D).reshape(N, D)\n",
    "cache = np.linspace(0.6, 0.9, num=N*D).reshape(N, D)\n",
    "\n",
    "config = {'learning_rate': 1e-2, 'cache': cache}\n",
    "next_w, _ = rmsprop(w, dw, config=config)\n",
    "\n",
    "expected_next_w = np.asarray([\n",
    "  [-0.39223849, -0.34037513, -0.28849239, -0.23659121, -0.18467247],\n",
    "  [-0.132737,   -0.08078555, -0.02881884,  0.02316247,  0.07515774],\n",
    "  [ 0.12716641,  0.17918792,  0.23122175,  0.28326742,  0.33532447],\n",
    "  [ 0.38739248,  0.43947102,  0.49155973,  0.54365823,  0.59576619]])\n",
    "expected_cache = np.asarray([\n",
    "  [ 0.5976,      0.6126277,   0.6277108,   0.64284931,  0.65804321],\n",
    "  [ 0.67329252,  0.68859723,  0.70395734,  0.71937285,  0.73484377],\n",
    "  [ 0.75037008,  0.7659518,   0.78158892,  0.79728144,  0.81302936],\n",
    "  [ 0.82883269,  0.84469141,  0.86060554,  0.87657507,  0.8926    ]])\n",
    "\n",
    "print('next_w error: ', rel_error(expected_next_w, next_w))\n",
    "print('cache error: ', rel_error(expected_cache, config['cache']))"
   ]
  },
  {
   "cell_type": "code",
   "execution_count": 108,
   "metadata": {
    "collapsed": false,
    "deletable": true,
    "editable": true
   },
   "outputs": [
    {
     "name": "stdout",
     "output_type": "stream",
     "text": [
      "next_w error:  0.00152184517579\n",
      "v error:  4.20831403811e-09\n",
      "m error:  4.21496319311e-09\n"
     ]
    }
   ],
   "source": [
    "# Test Adam implementation; you should see errors around 1e-7 or less\n",
    "from cs231n.optim import adam\n",
    "\n",
    "N, D = 4, 5\n",
    "w = np.linspace(-0.4, 0.6, num=N*D).reshape(N, D)\n",
    "dw = np.linspace(-0.6, 0.4, num=N*D).reshape(N, D)\n",
    "m = np.linspace(0.6, 0.9, num=N*D).reshape(N, D)\n",
    "v = np.linspace(0.7, 0.5, num=N*D).reshape(N, D)\n",
    "\n",
    "config = {'learning_rate': 1e-2, 'm': m, 'v': v, 't': 5}\n",
    "next_w, _ = adam(w, dw, config=config)\n",
    "\n",
    "expected_next_w = np.asarray([\n",
    "  [-0.40094747, -0.34836187, -0.29577703, -0.24319299, -0.19060977],\n",
    "  [-0.1380274,  -0.08544591, -0.03286534,  0.01971428,  0.0722929],\n",
    "  [ 0.1248705,   0.17744702,  0.23002243,  0.28259667,  0.33516969],\n",
    "  [ 0.38774145,  0.44031188,  0.49288093,  0.54544852,  0.59801459]])\n",
    "expected_v = np.asarray([\n",
    "  [ 0.69966,     0.68908382,  0.67851319,  0.66794809,  0.65738853,],\n",
    "  [ 0.64683452,  0.63628604,  0.6257431,   0.61520571,  0.60467385,],\n",
    "  [ 0.59414753,  0.58362676,  0.57311152,  0.56260183,  0.55209767,],\n",
    "  [ 0.54159906,  0.53110598,  0.52061845,  0.51013645,  0.49966,   ]])\n",
    "expected_m = np.asarray([\n",
    "  [ 0.48,        0.49947368,  0.51894737,  0.53842105,  0.55789474],\n",
    "  [ 0.57736842,  0.59684211,  0.61631579,  0.63578947,  0.65526316],\n",
    "  [ 0.67473684,  0.69421053,  0.71368421,  0.73315789,  0.75263158],\n",
    "  [ 0.77210526,  0.79157895,  0.81105263,  0.83052632,  0.85      ]])\n",
    "\n",
    "print('next_w error: ', rel_error(expected_next_w, next_w))\n",
    "print('v error: ', rel_error(expected_v, config['v']))\n",
    "print('m error: ', rel_error(expected_m, config['m']))"
   ]
  },
  {
   "cell_type": "markdown",
   "metadata": {
    "deletable": true,
    "editable": true
   },
   "source": [
    "Once you have debugged your RMSProp and Adam implementations, run the following to train a pair of deep networks using these new update rules:"
   ]
  },
  {
   "cell_type": "code",
   "execution_count": 109,
   "metadata": {
    "collapsed": false,
    "deletable": true,
    "editable": true
   },
   "outputs": [
    {
     "name": "stdout",
     "output_type": "stream",
     "text": [
      "running with  adam\n",
      "(Iteration 1 / 200) loss: 2.655141\n",
      "(Epoch 0 / 5) train acc: 0.133000; val_acc: 0.147000\n",
      "(Iteration 11 / 200) loss: 2.098867\n",
      "(Iteration 21 / 200) loss: 2.003934\n",
      "(Iteration 31 / 200) loss: 1.931542\n",
      "(Epoch 1 / 5) train acc: 0.365000; val_acc: 0.302000\n",
      "(Iteration 41 / 200) loss: 1.753884\n",
      "(Iteration 51 / 200) loss: 1.621226\n",
      "(Iteration 61 / 200) loss: 1.563190\n",
      "(Iteration 71 / 200) loss: 1.677767\n",
      "(Epoch 2 / 5) train acc: 0.423000; val_acc: 0.347000\n",
      "(Iteration 81 / 200) loss: 1.564198\n",
      "(Iteration 91 / 200) loss: 1.349288\n",
      "(Iteration 101 / 200) loss: 1.432996\n",
      "(Iteration 111 / 200) loss: 1.638736\n",
      "(Epoch 3 / 5) train acc: 0.502000; val_acc: 0.352000\n",
      "(Iteration 121 / 200) loss: 1.497460\n",
      "(Iteration 131 / 200) loss: 1.315074\n",
      "(Iteration 141 / 200) loss: 1.391046\n",
      "(Iteration 151 / 200) loss: 1.408720\n",
      "(Epoch 4 / 5) train acc: 0.540000; val_acc: 0.365000\n",
      "(Iteration 161 / 200) loss: 1.464384\n",
      "(Iteration 171 / 200) loss: 1.107916\n",
      "(Iteration 181 / 200) loss: 1.331814\n",
      "(Iteration 191 / 200) loss: 1.093258\n",
      "(Epoch 5 / 5) train acc: 0.610000; val_acc: 0.387000\n",
      "\n",
      "running with  rmsprop\n",
      "(Iteration 1 / 200) loss: 2.456181\n",
      "(Epoch 0 / 5) train acc: 0.130000; val_acc: 0.146000\n",
      "(Iteration 11 / 200) loss: 2.110165\n",
      "(Iteration 21 / 200) loss: 1.925794\n",
      "(Iteration 31 / 200) loss: 1.818741\n",
      "(Epoch 1 / 5) train acc: 0.348000; val_acc: 0.293000\n",
      "(Iteration 41 / 200) loss: 1.783313\n",
      "(Iteration 51 / 200) loss: 1.878674\n",
      "(Iteration 61 / 200) loss: 1.787469\n",
      "(Iteration 71 / 200) loss: 1.624624\n",
      "(Epoch 2 / 5) train acc: 0.417000; val_acc: 0.312000\n",
      "(Iteration 81 / 200) loss: 1.859250\n",
      "(Iteration 91 / 200) loss: 1.487873\n",
      "(Iteration 101 / 200) loss: 1.555766\n",
      "(Iteration 111 / 200) loss: 1.608394\n",
      "(Epoch 3 / 5) train acc: 0.461000; val_acc: 0.341000\n",
      "(Iteration 121 / 200) loss: 1.540360\n",
      "(Iteration 131 / 200) loss: 1.649890\n",
      "(Iteration 141 / 200) loss: 1.433283\n",
      "(Iteration 151 / 200) loss: 1.512492\n",
      "(Epoch 4 / 5) train acc: 0.491000; val_acc: 0.346000\n",
      "(Iteration 161 / 200) loss: 1.461267\n",
      "(Iteration 171 / 200) loss: 1.564714\n",
      "(Iteration 181 / 200) loss: 1.527150\n",
      "(Iteration 191 / 200) loss: 1.433637\n",
      "(Epoch 5 / 5) train acc: 0.495000; val_acc: 0.366000\n",
      "\n"
     ]
    },
    {
     "data": {
      "text/plain": [
       "<matplotlib.axes._subplots.AxesSubplot at 0x10f8be198>"
      ]
     },
     "execution_count": 109,
     "metadata": {},
     "output_type": "execute_result"
    },
    {
     "data": {
      "text/plain": [
       "<matplotlib.text.Text at 0x10f946c18>"
      ]
     },
     "execution_count": 109,
     "metadata": {},
     "output_type": "execute_result"
    },
    {
     "data": {
      "text/plain": [
       "<matplotlib.text.Text at 0x10f90ba20>"
      ]
     },
     "execution_count": 109,
     "metadata": {},
     "output_type": "execute_result"
    },
    {
     "data": {
      "text/plain": [
       "<matplotlib.axes._subplots.AxesSubplot at 0x10fdb1470>"
      ]
     },
     "execution_count": 109,
     "metadata": {},
     "output_type": "execute_result"
    },
    {
     "data": {
      "text/plain": [
       "<matplotlib.text.Text at 0x10fde2fd0>"
      ]
     },
     "execution_count": 109,
     "metadata": {},
     "output_type": "execute_result"
    },
    {
     "data": {
      "text/plain": [
       "<matplotlib.text.Text at 0x10fdb9b70>"
      ]
     },
     "execution_count": 109,
     "metadata": {},
     "output_type": "execute_result"
    },
    {
     "data": {
      "text/plain": [
       "<matplotlib.axes._subplots.AxesSubplot at 0x10fe4f208>"
      ]
     },
     "execution_count": 109,
     "metadata": {},
     "output_type": "execute_result"
    },
    {
     "data": {
      "text/plain": [
       "<matplotlib.text.Text at 0x10fbad4e0>"
      ]
     },
     "execution_count": 109,
     "metadata": {},
     "output_type": "execute_result"
    },
    {
     "data": {
      "text/plain": [
       "<matplotlib.text.Text at 0x10fe518d0>"
      ]
     },
     "execution_count": 109,
     "metadata": {},
     "output_type": "execute_result"
    },
    {
     "data": {
      "text/plain": [
       "<matplotlib.axes._subplots.AxesSubplot at 0x10f8be198>"
      ]
     },
     "execution_count": 109,
     "metadata": {},
     "output_type": "execute_result"
    },
    {
     "data": {
      "text/plain": [
       "[<matplotlib.lines.Line2D at 0x10fbd1b70>]"
      ]
     },
     "execution_count": 109,
     "metadata": {},
     "output_type": "execute_result"
    },
    {
     "data": {
      "text/plain": [
       "<matplotlib.axes._subplots.AxesSubplot at 0x10fdb1470>"
      ]
     },
     "execution_count": 109,
     "metadata": {},
     "output_type": "execute_result"
    },
    {
     "data": {
      "text/plain": [
       "[<matplotlib.lines.Line2D at 0x10fbe2710>]"
      ]
     },
     "execution_count": 109,
     "metadata": {},
     "output_type": "execute_result"
    },
    {
     "data": {
      "text/plain": [
       "<matplotlib.axes._subplots.AxesSubplot at 0x10fe4f208>"
      ]
     },
     "execution_count": 109,
     "metadata": {},
     "output_type": "execute_result"
    },
    {
     "data": {
      "text/plain": [
       "[<matplotlib.lines.Line2D at 0x10fbd1d68>]"
      ]
     },
     "execution_count": 109,
     "metadata": {},
     "output_type": "execute_result"
    },
    {
     "data": {
      "text/plain": [
       "<matplotlib.axes._subplots.AxesSubplot at 0x10f8be198>"
      ]
     },
     "execution_count": 109,
     "metadata": {},
     "output_type": "execute_result"
    },
    {
     "data": {
      "text/plain": [
       "[<matplotlib.lines.Line2D at 0x10fbd7b00>]"
      ]
     },
     "execution_count": 109,
     "metadata": {},
     "output_type": "execute_result"
    },
    {
     "data": {
      "text/plain": [
       "<matplotlib.axes._subplots.AxesSubplot at 0x10fdb1470>"
      ]
     },
     "execution_count": 109,
     "metadata": {},
     "output_type": "execute_result"
    },
    {
     "data": {
      "text/plain": [
       "[<matplotlib.lines.Line2D at 0x10fbd8588>]"
      ]
     },
     "execution_count": 109,
     "metadata": {},
     "output_type": "execute_result"
    },
    {
     "data": {
      "text/plain": [
       "<matplotlib.axes._subplots.AxesSubplot at 0x10fe4f208>"
      ]
     },
     "execution_count": 109,
     "metadata": {},
     "output_type": "execute_result"
    },
    {
     "data": {
      "text/plain": [
       "[<matplotlib.lines.Line2D at 0x10fbd86d8>]"
      ]
     },
     "execution_count": 109,
     "metadata": {},
     "output_type": "execute_result"
    },
    {
     "data": {
      "text/plain": [
       "<matplotlib.axes._subplots.AxesSubplot at 0x10f8be198>"
      ]
     },
     "execution_count": 109,
     "metadata": {},
     "output_type": "execute_result"
    },
    {
     "data": {
      "text/plain": [
       "[<matplotlib.lines.Line2D at 0x10f978898>]"
      ]
     },
     "execution_count": 109,
     "metadata": {},
     "output_type": "execute_result"
    },
    {
     "data": {
      "text/plain": [
       "<matplotlib.axes._subplots.AxesSubplot at 0x10fdb1470>"
      ]
     },
     "execution_count": 109,
     "metadata": {},
     "output_type": "execute_result"
    },
    {
     "data": {
      "text/plain": [
       "[<matplotlib.lines.Line2D at 0x10f9789b0>]"
      ]
     },
     "execution_count": 109,
     "metadata": {},
     "output_type": "execute_result"
    },
    {
     "data": {
      "text/plain": [
       "<matplotlib.axes._subplots.AxesSubplot at 0x10fe4f208>"
      ]
     },
     "execution_count": 109,
     "metadata": {},
     "output_type": "execute_result"
    },
    {
     "data": {
      "text/plain": [
       "[<matplotlib.lines.Line2D at 0x10f985cf8>]"
      ]
     },
     "execution_count": 109,
     "metadata": {},
     "output_type": "execute_result"
    },
    {
     "data": {
      "text/plain": [
       "<matplotlib.axes._subplots.AxesSubplot at 0x10f8be198>"
      ]
     },
     "execution_count": 109,
     "metadata": {},
     "output_type": "execute_result"
    },
    {
     "data": {
      "text/plain": [
       "[<matplotlib.lines.Line2D at 0x10fe79ac8>]"
      ]
     },
     "execution_count": 109,
     "metadata": {},
     "output_type": "execute_result"
    },
    {
     "data": {
      "text/plain": [
       "<matplotlib.axes._subplots.AxesSubplot at 0x10fdb1470>"
      ]
     },
     "execution_count": 109,
     "metadata": {},
     "output_type": "execute_result"
    },
    {
     "data": {
      "text/plain": [
       "[<matplotlib.lines.Line2D at 0x10f985c18>]"
      ]
     },
     "execution_count": 109,
     "metadata": {},
     "output_type": "execute_result"
    },
    {
     "data": {
      "text/plain": [
       "<matplotlib.axes._subplots.AxesSubplot at 0x10fe4f208>"
      ]
     },
     "execution_count": 109,
     "metadata": {},
     "output_type": "execute_result"
    },
    {
     "data": {
      "text/plain": [
       "[<matplotlib.lines.Line2D at 0x10fe71048>]"
      ]
     },
     "execution_count": 109,
     "metadata": {},
     "output_type": "execute_result"
    },
    {
     "data": {
      "text/plain": [
       "<matplotlib.axes._subplots.AxesSubplot at 0x10f8be198>"
      ]
     },
     "execution_count": 109,
     "metadata": {},
     "output_type": "execute_result"
    },
    {
     "data": {
      "text/plain": [
       "<matplotlib.legend.Legend at 0x10fbd1be0>"
      ]
     },
     "execution_count": 109,
     "metadata": {},
     "output_type": "execute_result"
    },
    {
     "data": {
      "text/plain": [
       "<matplotlib.axes._subplots.AxesSubplot at 0x10fdb1470>"
      ]
     },
     "execution_count": 109,
     "metadata": {},
     "output_type": "execute_result"
    },
    {
     "data": {
      "text/plain": [
       "<matplotlib.legend.Legend at 0x10fe65a58>"
      ]
     },
     "execution_count": 109,
     "metadata": {},
     "output_type": "execute_result"
    },
    {
     "data": {
      "text/plain": [
       "<matplotlib.axes._subplots.AxesSubplot at 0x10fe4f208>"
      ]
     },
     "execution_count": 109,
     "metadata": {},
     "output_type": "execute_result"
    },
    {
     "data": {
      "text/plain": [
       "<matplotlib.legend.Legend at 0x10f998898>"
      ]
     },
     "execution_count": 109,
     "metadata": {},
     "output_type": "execute_result"
    },
    {
     "data": {
      "image/png": "[encoded data removed]",
      "text/plain": [
       "<matplotlib.figure.Figure at 0x1114439b0>"
      ]
     },
     "metadata": {},
     "output_type": "display_data"
    }
   ],
   "source": [
    "learning_rates = {'rmsprop': 1e-4, 'adam': 1e-3}\n",
    "for update_rule in ['adam', 'rmsprop']:\n",
    "  print('running with ', update_rule)\n",
    "  model = FullyConnectedNet([100, 100, 100, 100, 100], weight_scale=5e-2)\n",
    "\n",
    "  solver = Solver(model, small_data,\n",
    "                  num_epochs=5, batch_size=100,\n",
    "                  update_rule=update_rule,\n",
    "                  optim_config={\n",
    "                    'learning_rate': learning_rates[update_rule]\n",
    "                  },\n",
    "                  verbose=True)\n",
    "  solvers[update_rule] = solver\n",
    "  solver.train()\n",
    "  print()\n",
    "\n",
    "plt.subplot(3, 1, 1)\n",
    "plt.title('Training loss')\n",
    "plt.xlabel('Iteration')\n",
    "\n",
    "plt.subplot(3, 1, 2)\n",
    "plt.title('Training accuracy')\n",
    "plt.xlabel('Epoch')\n",
    "\n",
    "plt.subplot(3, 1, 3)\n",
    "plt.title('Validation accuracy')\n",
    "plt.xlabel('Epoch')\n",
    "\n",
    "for update_rule, solver in list(solvers.items()):\n",
    "  plt.subplot(3, 1, 1)\n",
    "  plt.plot(solver.loss_history, 'o', label=update_rule)\n",
    "  \n",
    "  plt.subplot(3, 1, 2)\n",
    "  plt.plot(solver.train_acc_history, '-o', label=update_rule)\n",
    "\n",
    "  plt.subplot(3, 1, 3)\n",
    "  plt.plot(solver.val_acc_history, '-o', label=update_rule)\n",
    "  \n",
    "for i in [1, 2, 3]:\n",
    "  plt.subplot(3, 1, i)\n",
    "  plt.legend(loc='upper center', ncol=4)\n",
    "plt.gcf().set_size_inches(15, 15)\n",
    "plt.show()"
   ]
  },
  {
   "cell_type": "markdown",
   "metadata": {
    "deletable": true,
    "editable": true
   },
   "source": [
    "# Train a good model!\n",
    "Train the best fully-connected model that you can on CIFAR-10, storing your best model in the `best_model` variable. We require you to get at least 50% accuracy on the validation set using a fully-connected net.\n",
    "\n",
    "If you are careful it should be possible to get accuracies above 55%, but we don't require it for this part and won't assign extra credit for doing so. Later in the assignment we will ask you to train the best convolutional network that you can on CIFAR-10, and we would prefer that you spend your effort working on convolutional nets rather than fully-connected nets.\n",
    "\n",
    "You might find it useful to complete the `BatchNormalization.ipynb` and `Dropout.ipynb` notebooks before completing this part, since those techniques can help you train powerful models."
   ]
  },
  {
   "cell_type": "code",
   "execution_count": 115,
   "metadata": {
    "collapsed": false,
    "deletable": true,
    "editable": true,
    "scrolled": true
   },
   "outputs": [
    {
     "name": "stdout",
     "output_type": "stream",
     "text": [
      "(Iteration 1 / 2450) loss: 2.556331\n",
      "(Epoch 0 / 5) train acc: 0.125000; val_acc: 0.103000\n",
      "(Iteration 11 / 2450) loss: 2.255627\n",
      "(Iteration 21 / 2450) loss: 1.954546\n",
      "(Iteration 31 / 2450) loss: 1.927493\n",
      "(Iteration 41 / 2450) loss: 1.915472\n",
      "(Iteration 51 / 2450) loss: 1.680113\n",
      "(Iteration 61 / 2450) loss: 1.865285\n",
      "(Iteration 71 / 2450) loss: 1.714326\n",
      "(Iteration 81 / 2450) loss: 1.863334\n",
      "(Iteration 91 / 2450) loss: 1.841045\n",
      "(Iteration 101 / 2450) loss: 1.777500\n",
      "(Iteration 111 / 2450) loss: 1.771127\n",
      "(Iteration 121 / 2450) loss: 1.717707\n",
      "(Iteration 131 / 2450) loss: 1.769485\n",
      "(Iteration 141 / 2450) loss: 1.657827\n",
      "(Iteration 151 / 2450) loss: 1.755185\n",
      "(Iteration 161 / 2450) loss: 1.749786\n",
      "(Iteration 171 / 2450) loss: 1.743756\n",
      "(Iteration 181 / 2450) loss: 1.615314\n",
      "(Iteration 191 / 2450) loss: 1.804798\n",
      "(Iteration 201 / 2450) loss: 1.857225\n",
      "(Iteration 211 / 2450) loss: 1.495930\n",
      "(Iteration 221 / 2450) loss: 1.637994\n",
      "(Iteration 231 / 2450) loss: 1.720945\n",
      "(Iteration 241 / 2450) loss: 1.696848\n",
      "(Iteration 251 / 2450) loss: 1.696973\n",
      "(Iteration 261 / 2450) loss: 1.644210\n",
      "(Iteration 271 / 2450) loss: 1.721455\n",
      "(Iteration 281 / 2450) loss: 1.821318\n",
      "(Iteration 291 / 2450) loss: 1.728050\n",
      "(Iteration 301 / 2450) loss: 1.728899\n",
      "(Iteration 311 / 2450) loss: 1.826872\n",
      "(Iteration 321 / 2450) loss: 1.852208\n",
      "(Iteration 331 / 2450) loss: 1.728546\n",
      "(Iteration 341 / 2450) loss: 1.760189\n",
      "(Iteration 351 / 2450) loss: 1.584194\n",
      "(Iteration 361 / 2450) loss: 1.446212\n",
      "(Iteration 371 / 2450) loss: 1.635474\n",
      "(Iteration 381 / 2450) loss: 1.511101\n",
      "(Iteration 391 / 2450) loss: 1.711004\n",
      "(Iteration 401 / 2450) loss: 1.517819\n",
      "(Iteration 411 / 2450) loss: 1.449060\n",
      "(Iteration 421 / 2450) loss: 1.764518\n",
      "(Iteration 431 / 2450) loss: 1.778883\n",
      "(Iteration 441 / 2450) loss: 1.504225\n",
      "(Iteration 451 / 2450) loss: 1.713143\n",
      "(Iteration 461 / 2450) loss: 1.469537\n",
      "(Iteration 471 / 2450) loss: 1.462704\n",
      "(Iteration 481 / 2450) loss: 1.535473\n",
      "(Epoch 1 / 5) train acc: 0.423000; val_acc: 0.417000\n",
      "(Iteration 491 / 2450) loss: 1.466832\n",
      "(Iteration 501 / 2450) loss: 1.625206\n",
      "(Iteration 511 / 2450) loss: 1.412307\n",
      "(Iteration 521 / 2450) loss: 1.435128\n",
      "(Iteration 531 / 2450) loss: 1.520170\n",
      "(Iteration 541 / 2450) loss: 1.654620\n",
      "(Iteration 551 / 2450) loss: 1.501237\n",
      "(Iteration 561 / 2450) loss: 1.711519\n",
      "(Iteration 571 / 2450) loss: 1.623532\n",
      "(Iteration 581 / 2450) loss: 1.483863\n",
      "(Iteration 591 / 2450) loss: 1.559657\n",
      "(Iteration 601 / 2450) loss: 1.556781\n",
      "(Iteration 611 / 2450) loss: 1.416945\n",
      "(Iteration 621 / 2450) loss: 1.653518\n",
      "(Iteration 631 / 2450) loss: 1.556492\n",
      "(Iteration 641 / 2450) loss: 1.484272\n",
      "(Iteration 651 / 2450) loss: 1.292341\n",
      "(Iteration 661 / 2450) loss: 1.478902\n",
      "(Iteration 671 / 2450) loss: 1.349853\n",
      "(Iteration 681 / 2450) loss: 1.582191\n",
      "(Iteration 691 / 2450) loss: 1.535916\n",
      "(Iteration 701 / 2450) loss: 1.474214\n",
      "(Iteration 711 / 2450) loss: 1.417335\n",
      "(Iteration 721 / 2450) loss: 1.500874\n",
      "(Iteration 731 / 2450) loss: 1.386897\n",
      "(Iteration 741 / 2450) loss: 1.517792\n",
      "(Iteration 751 / 2450) loss: 1.347225\n",
      "(Iteration 761 / 2450) loss: 1.705825\n",
      "(Iteration 771 / 2450) loss: 1.419656\n",
      "(Iteration 781 / 2450) loss: 1.522513\n",
      "(Iteration 791 / 2450) loss: 1.371338\n",
      "(Iteration 801 / 2450) loss: 1.594366\n",
      "(Iteration 811 / 2450) loss: 1.575428\n",
      "(Iteration 821 / 2450) loss: 1.300494\n",
      "(Iteration 831 / 2450) loss: 1.528189\n",
      "(Iteration 841 / 2450) loss: 1.576226\n",
      "(Iteration 851 / 2450) loss: 1.454382\n",
      "(Iteration 861 / 2450) loss: 1.573952\n",
      "(Iteration 871 / 2450) loss: 1.393437\n",
      "(Iteration 881 / 2450) loss: 1.531705\n",
      "(Iteration 891 / 2450) loss: 1.606844\n",
      "(Iteration 901 / 2450) loss: 1.380014\n",
      "(Iteration 911 / 2450) loss: 1.369687\n",
      "(Iteration 921 / 2450) loss: 1.644859\n",
      "(Iteration 931 / 2450) loss: 1.625346\n",
      "(Iteration 941 / 2450) loss: 1.525184\n",
      "(Iteration 951 / 2450) loss: 1.681772\n",
      "(Iteration 961 / 2450) loss: 1.632925\n",
      "(Iteration 971 / 2450) loss: 1.572672\n",
      "(Epoch 2 / 5) train acc: 0.464000; val_acc: 0.451000\n",
      "(Iteration 981 / 2450) loss: 1.566718\n",
      "(Iteration 991 / 2450) loss: 1.423295\n",
      "(Iteration 1001 / 2450) loss: 1.194240\n",
      "(Iteration 1011 / 2450) loss: 1.249081\n",
      "(Iteration 1021 / 2450) loss: 1.573134\n",
      "(Iteration 1031 / 2450) loss: 1.365369\n",
      "(Iteration 1041 / 2450) loss: 1.312122\n",
      "(Iteration 1051 / 2450) loss: 1.368140\n",
      "(Iteration 1061 / 2450) loss: 1.358694\n",
      "(Iteration 1071 / 2450) loss: 1.298331\n",
      "(Iteration 1081 / 2450) loss: 1.282984\n",
      "(Iteration 1091 / 2450) loss: 1.192675\n",
      "(Iteration 1101 / 2450) loss: 1.260029\n",
      "(Iteration 1111 / 2450) loss: 1.565177\n",
      "(Iteration 1121 / 2450) loss: 1.313456\n",
      "(Iteration 1131 / 2450) loss: 1.468999\n",
      "(Iteration 1141 / 2450) loss: 1.565806\n",
      "(Iteration 1151 / 2450) loss: 1.568054\n",
      "(Iteration 1161 / 2450) loss: 1.414081\n",
      "(Iteration 1171 / 2450) loss: 1.292445\n",
      "(Iteration 1181 / 2450) loss: 1.333721\n",
      "(Iteration 1191 / 2450) loss: 1.246192\n",
      "(Iteration 1201 / 2450) loss: 1.551583\n",
      "(Iteration 1211 / 2450) loss: 1.431982\n",
      "(Iteration 1221 / 2450) loss: 1.477019\n",
      "(Iteration 1231 / 2450) loss: 1.330951\n",
      "(Iteration 1241 / 2450) loss: 1.450377\n",
      "(Iteration 1251 / 2450) loss: 1.312536\n",
      "(Iteration 1261 / 2450) loss: 1.295263\n",
      "(Iteration 1271 / 2450) loss: 1.345224\n",
      "(Iteration 1281 / 2450) loss: 1.398395\n",
      "(Iteration 1291 / 2450) loss: 1.373483\n",
      "(Iteration 1301 / 2450) loss: 1.331438\n",
      "(Iteration 1311 / 2450) loss: 1.298076\n",
      "(Iteration 1321 / 2450) loss: 1.635855\n",
      "(Iteration 1331 / 2450) loss: 1.335546\n",
      "(Iteration 1341 / 2450) loss: 1.314721\n",
      "(Iteration 1351 / 2450) loss: 1.527121\n",
      "(Iteration 1361 / 2450) loss: 1.202442\n",
      "(Iteration 1371 / 2450) loss: 1.350736\n",
      "(Iteration 1381 / 2450) loss: 1.405087\n",
      "(Iteration 1391 / 2450) loss: 1.375167\n",
      "(Iteration 1401 / 2450) loss: 1.428825\n",
      "(Iteration 1411 / 2450) loss: 1.295361\n",
      "(Iteration 1421 / 2450) loss: 1.384635\n",
      "(Iteration 1431 / 2450) loss: 1.247458\n",
      "(Iteration 1441 / 2450) loss: 1.447028\n",
      "(Iteration 1451 / 2450) loss: 1.281021\n",
      "(Iteration 1461 / 2450) loss: 1.276416\n",
      "(Epoch 3 / 5) train acc: 0.544000; val_acc: 0.515000\n",
      "(Iteration 1471 / 2450) loss: 1.035634\n",
      "(Iteration 1481 / 2450) loss: 1.610549\n",
      "(Iteration 1491 / 2450) loss: 1.451361\n",
      "(Iteration 1501 / 2450) loss: 1.139457\n",
      "(Iteration 1511 / 2450) loss: 1.249065\n",
      "(Iteration 1521 / 2450) loss: 1.234619\n",
      "(Iteration 1531 / 2450) loss: 1.216162\n",
      "(Iteration 1541 / 2450) loss: 1.537377\n",
      "(Iteration 1551 / 2450) loss: 1.463821\n",
      "(Iteration 1561 / 2450) loss: 1.386737\n",
      "(Iteration 1571 / 2450) loss: 1.200075\n",
      "(Iteration 1581 / 2450) loss: 1.270449\n",
      "(Iteration 1591 / 2450) loss: 1.304998\n",
      "(Iteration 1601 / 2450) loss: 1.297470\n",
      "(Iteration 1611 / 2450) loss: 1.148091\n",
      "(Iteration 1621 / 2450) loss: 1.224943\n",
      "(Iteration 1631 / 2450) loss: 1.501067\n",
      "(Iteration 1641 / 2450) loss: 1.262101\n",
      "(Iteration 1651 / 2450) loss: 1.453585\n",
      "(Iteration 1661 / 2450) loss: 1.153197\n",
      "(Iteration 1671 / 2450) loss: 1.238903\n",
      "(Iteration 1681 / 2450) loss: 1.289211\n",
      "(Iteration 1691 / 2450) loss: 1.258085\n",
      "(Iteration 1701 / 2450) loss: 1.462767\n",
      "(Iteration 1711 / 2450) loss: 1.286747\n",
      "(Iteration 1721 / 2450) loss: 1.199053\n",
      "(Iteration 1731 / 2450) loss: 1.156875\n",
      "(Iteration 1741 / 2450) loss: 1.438963\n",
      "(Iteration 1751 / 2450) loss: 1.362832\n",
      "(Iteration 1761 / 2450) loss: 1.208756\n",
      "(Iteration 1771 / 2450) loss: 1.325806\n",
      "(Iteration 1781 / 2450) loss: 1.394443\n",
      "(Iteration 1791 / 2450) loss: 1.268540\n",
      "(Iteration 1801 / 2450) loss: 1.374223\n",
      "(Iteration 1811 / 2450) loss: 1.369004\n",
      "(Iteration 1821 / 2450) loss: 1.199050\n",
      "(Iteration 1831 / 2450) loss: 1.438929\n",
      "(Iteration 1841 / 2450) loss: 1.247463\n",
      "(Iteration 1851 / 2450) loss: 1.252933\n",
      "(Iteration 1861 / 2450) loss: 1.300548\n",
      "(Iteration 1871 / 2450) loss: 1.089167\n",
      "(Iteration 1881 / 2450) loss: 1.347218\n",
      "(Iteration 1891 / 2450) loss: 1.377922\n",
      "(Iteration 1901 / 2450) loss: 1.238239\n",
      "(Iteration 1911 / 2450) loss: 1.296228\n",
      "(Iteration 1921 / 2450) loss: 1.098462\n",
      "(Iteration 1931 / 2450) loss: 1.353898\n",
      "(Iteration 1941 / 2450) loss: 1.215429\n",
      "(Iteration 1951 / 2450) loss: 1.297621\n",
      "(Epoch 4 / 5) train acc: 0.554000; val_acc: 0.520000\n",
      "(Iteration 1961 / 2450) loss: 1.298802\n",
      "(Iteration 1971 / 2450) loss: 1.106986\n",
      "(Iteration 1981 / 2450) loss: 1.131385\n",
      "(Iteration 1991 / 2450) loss: 1.332698\n",
      "(Iteration 2001 / 2450) loss: 1.431906\n",
      "(Iteration 2011 / 2450) loss: 1.084299\n",
      "(Iteration 2021 / 2450) loss: 1.223306\n",
      "(Iteration 2031 / 2450) loss: 1.154472\n",
      "(Iteration 2041 / 2450) loss: 1.027548\n",
      "(Iteration 2051 / 2450) loss: 1.215449\n",
      "(Iteration 2061 / 2450) loss: 1.320248\n",
      "(Iteration 2071 / 2450) loss: 1.238071\n",
      "(Iteration 2081 / 2450) loss: 1.158539\n",
      "(Iteration 2091 / 2450) loss: 1.286528\n",
      "(Iteration 2101 / 2450) loss: 1.300998\n",
      "(Iteration 2111 / 2450) loss: 1.089124\n",
      "(Iteration 2121 / 2450) loss: 1.537516\n",
      "(Iteration 2131 / 2450) loss: 1.056942\n",
      "(Iteration 2141 / 2450) loss: 1.078395\n",
      "(Iteration 2151 / 2450) loss: 1.249355\n",
      "(Iteration 2161 / 2450) loss: 1.192420\n",
      "(Iteration 2171 / 2450) loss: 1.242394\n",
      "(Iteration 2181 / 2450) loss: 1.102113\n",
      "(Iteration 2191 / 2450) loss: 1.212667\n",
      "(Iteration 2201 / 2450) loss: 1.370434\n",
      "(Iteration 2211 / 2450) loss: 1.274975\n",
      "(Iteration 2221 / 2450) loss: 1.235436\n",
      "(Iteration 2231 / 2450) loss: 1.332163\n",
      "(Iteration 2241 / 2450) loss: 1.278707\n",
      "(Iteration 2251 / 2450) loss: 1.335766\n",
      "(Iteration 2261 / 2450) loss: 0.954529\n",
      "(Iteration 2271 / 2450) loss: 1.157844\n",
      "(Iteration 2281 / 2450) loss: 1.135931\n",
      "(Iteration 2291 / 2450) loss: 1.198102\n",
      "(Iteration 2301 / 2450) loss: 1.137358\n",
      "(Iteration 2311 / 2450) loss: 1.199227\n",
      "(Iteration 2321 / 2450) loss: 1.102095\n",
      "(Iteration 2331 / 2450) loss: 1.385636\n",
      "(Iteration 2341 / 2450) loss: 1.338937\n",
      "(Iteration 2351 / 2450) loss: 1.125742\n",
      "(Iteration 2361 / 2450) loss: 1.169483\n",
      "(Iteration 2371 / 2450) loss: 1.146398\n",
      "(Iteration 2381 / 2450) loss: 1.102097\n",
      "(Iteration 2391 / 2450) loss: 1.366948\n",
      "(Iteration 2401 / 2450) loss: 1.087348\n",
      "(Iteration 2411 / 2450) loss: 1.061091\n",
      "(Iteration 2421 / 2450) loss: 1.172913\n",
      "(Iteration 2431 / 2450) loss: 1.301179\n",
      "(Iteration 2441 / 2450) loss: 1.228555\n",
      "(Epoch 5 / 5) train acc: 0.604000; val_acc: 0.514000\n"
     ]
    },
    {
     "ename": "NameError",
     "evalue": "name 'nnet' is not defined",
     "output_type": "error",
     "traceback": [
      "\u001b[0;31m---------------------------------------------------------------------------\u001b[0m",
      "\u001b[0;31mNameError\u001b[0m                                 Traceback (most recent call last)",
      "\u001b[0;32m<ipython-input-115-08fca05fce4f>\u001b[0m in \u001b[0;36m<module>\u001b[0;34m()\u001b[0m\n\u001b[1;32m     29\u001b[0m         \u001b[0;32mif\u001b[0m \u001b[0;34m(\u001b[0m\u001b[0mbest_val\u001b[0m \u001b[0;34m<\u001b[0m \u001b[0mval_acc\u001b[0m\u001b[0;34m)\u001b[0m\u001b[0;34m:\u001b[0m\u001b[0;34m\u001b[0m\u001b[0m\n\u001b[1;32m     30\u001b[0m             \u001b[0mbest_val\u001b[0m \u001b[0;34m=\u001b[0m \u001b[0mval_acc\u001b[0m\u001b[0;34m\u001b[0m\u001b[0m\n\u001b[0;32m---> 31\u001b[0;31m             \u001b[0mbest_net\u001b[0m \u001b[0;34m=\u001b[0m \u001b[0mnnet\u001b[0m\u001b[0;34m\u001b[0m\u001b[0m\n\u001b[0m\u001b[1;32m     32\u001b[0m \u001b[0;34m\u001b[0m\u001b[0m\n\u001b[1;32m     33\u001b[0m \u001b[0;31m# Print out results.\u001b[0m\u001b[0;34m\u001b[0m\u001b[0;34m\u001b[0m\u001b[0m\n",
      "\u001b[0;31mNameError\u001b[0m: name 'nnet' is not defined"
     ]
    }
   ],
   "source": [
    "best_model = None\n",
    "################################################################################\n",
    "# TODO: Train the best FullyConnectedNet that you can on CIFAR-10. You might   #\n",
    "# batch normalization and dropout useful. Store your best model in the         #\n",
    "# best_model variable.                                                         #\n",
    "################################################################################\n",
    "results = {}\n",
    "best_val = -1\n",
    "learning_rates = [1e-3, 1e-4, 1e-5]\n",
    "learning_rate_decay = [0.7, 0.9]\n",
    "#regularization_strengths = [0.1, 0.2, 0.3]\n",
    "\n",
    "for lr in learning_rates:\n",
    "#    for reg in regularization_strengths:\n",
    "    for lr_dec in learning_rate_decay:\n",
    "        model = FullyConnectedNet([100, 100, 100, 100, 100], weight_scale=5e-2)\n",
    "        solver = Solver(model, data,\n",
    "                  num_epochs=5, batch_size=100,\n",
    "                  update_rule='adam',\n",
    "                  lr_decay = lr_dec,\n",
    "                  optim_config={\n",
    "                    'learning_rate': lr\n",
    "                  },\n",
    "                  verbose=True)\n",
    "        solver.train()\n",
    "        train_acc = solver.check_accuracy(data['X_train'], data['y_train'])\n",
    "        val_acc = solver.check_accuracy(data['X_val'], data['y_val'])\n",
    "        results[(lr, lr_dec)] = (train_acc, val_acc)\n",
    "        if (best_val < val_acc):\n",
    "            best_val = val_acc\n",
    "            best_model = model\n",
    "            \n",
    "# Print out results.\n",
    "for lr, lr_dec in sorted(results):\n",
    "    train_accuracy, val_accuracy = results[(lr, lr_dec)]\n",
    "    print('lr %e lr %e train accuracy: %f val accuracy: %f' % (\n",
    "                lr, lr_dec, train_accuracy, val_accuracy))\n",
    "    \n",
    "print('best validation accuracy achieved during cross-validation: %f' % best_val)\n",
    "################################################################################\n",
    "#                              END OF YOUR CODE                                #\n",
    "################################################################################"
   ]
  },
  {
   "cell_type": "markdown",
   "metadata": {
    "deletable": true,
    "editable": true
   },
   "source": [
    "# Test you model\n",
    "Run your best model on the validation and test sets. You should achieve above 50% accuracy on the validation set."
   ]
  },
  {
   "cell_type": "code",
   "execution_count": 114,
   "metadata": {
    "collapsed": false,
    "deletable": true,
    "editable": true
   },
   "outputs": [
    {
     "ename": "NameError",
     "evalue": "name 'best_net' is not defined",
     "output_type": "error",
     "traceback": [
      "\u001b[0;31m---------------------------------------------------------------------------\u001b[0m",
      "\u001b[0;31mNameError\u001b[0m                                 Traceback (most recent call last)",
      "\u001b[0;32m<ipython-input-114-967c04e9a607>\u001b[0m in \u001b[0;36m<module>\u001b[0;34m()\u001b[0m\n\u001b[0;32m----> 1\u001b[0;31m \u001b[0mbest_model\u001b[0m \u001b[0;34m=\u001b[0m \u001b[0mbest_net\u001b[0m\u001b[0;34m\u001b[0m\u001b[0m\n\u001b[0m\u001b[1;32m      2\u001b[0m \u001b[0my_test_pred\u001b[0m \u001b[0;34m=\u001b[0m \u001b[0mnp\u001b[0m\u001b[0;34m.\u001b[0m\u001b[0margmax\u001b[0m\u001b[0;34m(\u001b[0m\u001b[0mbest_model\u001b[0m\u001b[0;34m.\u001b[0m\u001b[0mloss\u001b[0m\u001b[0;34m(\u001b[0m\u001b[0mdata\u001b[0m\u001b[0;34m[\u001b[0m\u001b[0;34m'X_test'\u001b[0m\u001b[0;34m]\u001b[0m\u001b[0;34m)\u001b[0m\u001b[0;34m,\u001b[0m \u001b[0maxis\u001b[0m\u001b[0;34m=\u001b[0m\u001b[0;36m1\u001b[0m\u001b[0;34m)\u001b[0m\u001b[0;34m\u001b[0m\u001b[0m\n\u001b[1;32m      3\u001b[0m \u001b[0my_val_pred\u001b[0m \u001b[0;34m=\u001b[0m \u001b[0mnp\u001b[0m\u001b[0;34m.\u001b[0m\u001b[0margmax\u001b[0m\u001b[0;34m(\u001b[0m\u001b[0mbest_model\u001b[0m\u001b[0;34m.\u001b[0m\u001b[0mloss\u001b[0m\u001b[0;34m(\u001b[0m\u001b[0mdata\u001b[0m\u001b[0;34m[\u001b[0m\u001b[0;34m'X_val'\u001b[0m\u001b[0;34m]\u001b[0m\u001b[0;34m)\u001b[0m\u001b[0;34m,\u001b[0m \u001b[0maxis\u001b[0m\u001b[0;34m=\u001b[0m\u001b[0;36m1\u001b[0m\u001b[0;34m)\u001b[0m\u001b[0;34m\u001b[0m\u001b[0m\n\u001b[1;32m      4\u001b[0m \u001b[0mprint\u001b[0m\u001b[0;34m(\u001b[0m\u001b[0;34m'Validation set accuracy: '\u001b[0m\u001b[0;34m,\u001b[0m \u001b[0;34m(\u001b[0m\u001b[0my_val_pred\u001b[0m \u001b[0;34m==\u001b[0m \u001b[0mdata\u001b[0m\u001b[0;34m[\u001b[0m\u001b[0;34m'y_val'\u001b[0m\u001b[0;34m]\u001b[0m\u001b[0;34m)\u001b[0m\u001b[0;34m.\u001b[0m\u001b[0mmean\u001b[0m\u001b[0;34m(\u001b[0m\u001b[0;34m)\u001b[0m\u001b[0;34m)\u001b[0m\u001b[0;34m\u001b[0m\u001b[0m\n\u001b[1;32m      5\u001b[0m \u001b[0mprint\u001b[0m\u001b[0;34m(\u001b[0m\u001b[0;34m'Test set accuracy: '\u001b[0m\u001b[0;34m,\u001b[0m \u001b[0;34m(\u001b[0m\u001b[0my_test_pred\u001b[0m \u001b[0;34m==\u001b[0m \u001b[0mdata\u001b[0m\u001b[0;34m[\u001b[0m\u001b[0;34m'y_test'\u001b[0m\u001b[0;34m]\u001b[0m\u001b[0;34m)\u001b[0m\u001b[0;34m.\u001b[0m\u001b[0mmean\u001b[0m\u001b[0;34m(\u001b[0m\u001b[0;34m)\u001b[0m\u001b[0;34m)\u001b[0m\u001b[0;34m\u001b[0m\u001b[0m\n",
      "\u001b[0;31mNameError\u001b[0m: name 'best_net' is not defined"
     ]
    }
   ],
   "source": [
    "best_model = best_net\n",
    "y_test_pred = np.argmax(best_model.loss(data['X_test']), axis=1)\n",
    "y_val_pred = np.argmax(best_model.loss(data['X_val']), axis=1)\n",
    "print('Validation set accuracy: ', (y_val_pred == data['y_val']).mean())\n",
    "print('Test set accuracy: ', (y_test_pred == data['y_test']).mean())"
   ]
  },
  {
   "cell_type": "code",
   "execution_count": null,
   "metadata": {
    "collapsed": true
   },
   "outputs": [],
   "source": []
  }
 ],
 "metadata": {
  "kernelspec": {
   "display_name": "Python 3",
   "language": "python",
   "name": "python3"
  },
  "language_info": {
   "codemirror_mode": {
    "name": "ipython",
    "version": 3
   },
   "file_extension": ".py",
   "mimetype": "text/x-python",
   "name": "python",
   "nbconvert_exporter": "python",
   "pygments_lexer": "ipython3",
   "version": "3.5.3"
  }
 },
 "nbformat": 4,
 "nbformat_minor": 0
}
